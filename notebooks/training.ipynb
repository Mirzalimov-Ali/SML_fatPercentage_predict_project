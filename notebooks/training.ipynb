{
 "cells": [
  {
   "cell_type": "code",
   "execution_count": 13,
   "id": "110124c6",
   "metadata": {},
   "outputs": [],
   "source": [
    "import os"
   ]
  },
  {
   "cell_type": "code",
   "execution_count": 14,
   "id": "08adca36",
   "metadata": {},
   "outputs": [],
   "source": [
    "os.chdir(r'C:\\SML_Projects\\SML_gym_fatPercentage_predict_project')"
   ]
  },
  {
   "cell_type": "code",
   "execution_count": 15,
   "id": "a90d0734",
   "metadata": {},
   "outputs": [
    {
     "name": "stdout",
     "output_type": "stream",
     "text": [
      "C:\\SML_Projects\\SML_gym_fatPercentage_predict_project\n"
     ]
    }
   ],
   "source": [
    "print(os.getcwd())"
   ]
  },
  {
   "cell_type": "code",
   "execution_count": 16,
   "id": "660b371b",
   "metadata": {},
   "outputs": [],
   "source": [
    "import pandas as pd"
   ]
  },
  {
   "cell_type": "code",
   "execution_count": 17,
   "id": "d12fe3e0",
   "metadata": {},
   "outputs": [],
   "source": [
    "from src.training import Trainer\n",
    "from src.logger import get_logger"
   ]
  },
  {
   "cell_type": "code",
   "execution_count": 18,
   "id": "81ed521b",
   "metadata": {},
   "outputs": [],
   "source": [
    "logger = get_logger('notebook_training', 'model_training.log')"
   ]
  },
  {
   "cell_type": "code",
   "execution_count": 19,
   "id": "056e1316",
   "metadata": {},
   "outputs": [],
   "source": [
    "try:\n",
    "    df = pd.read_csv('data/final/final_gym_dataset.csv')\n",
    "    logger.info(f'dataset imported successfully with shape: {df.shape}')\n",
    "except Exception as e:\n",
    "    logger.error(f'error during import dataset: {e}')\n",
    "    print(f'error: {e}')"
   ]
  },
  {
   "cell_type": "code",
   "execution_count": 20,
   "id": "8a331962",
   "metadata": {},
   "outputs": [
    {
     "name": "stdout",
     "output_type": "stream",
     "text": [
      "<class 'pandas.core.frame.DataFrame'>\n",
      "RangeIndex: 973 entries, 0 to 972\n",
      "Data columns (total 37 columns):\n",
      " #   Column                      Non-Null Count  Dtype  \n",
      "---  ------                      --------------  -----  \n",
      " 0   age                         973 non-null    float64\n",
      " 1   weight                      973 non-null    float64\n",
      " 2   height                      973 non-null    float64\n",
      " 3   max_bpm                     973 non-null    float64\n",
      " 4   avg_bpm                     973 non-null    float64\n",
      " 5   resting_bpm                 973 non-null    float64\n",
      " 6   session_duration            973 non-null    float64\n",
      " 7   calories_burned             973 non-null    float64\n",
      " 8   fat_percentage              973 non-null    float64\n",
      " 9   water_intake                973 non-null    float64\n",
      " 10  workout_frequency           973 non-null    float64\n",
      " 11  experience_level            973 non-null    float64\n",
      " 12  bmi                         973 non-null    float64\n",
      " 13  gender_Female               973 non-null    float64\n",
      " 14  gender_Male                 973 non-null    float64\n",
      " 15  workout_type_Cardio         973 non-null    float64\n",
      " 16  workout_type_HIIT           973 non-null    float64\n",
      " 17  workout_type_Strength       973 non-null    float64\n",
      " 18  workout_type_Yoga           973 non-null    float64\n",
      " 19  age_category_0-29           973 non-null    float64\n",
      " 20  age_category_30-39          973 non-null    float64\n",
      " 21  age_category_40-49          973 non-null    float64\n",
      " 22  age_category_50-100         973 non-null    float64\n",
      " 23  weight_category_100-130     973 non-null    float64\n",
      " 24  weight_category_40-59       973 non-null    float64\n",
      " 25  weight_category_60-79       973 non-null    float64\n",
      " 26  weight_category_80-99       973 non-null    float64\n",
      " 27  bmi_category_healthy        973 non-null    float64\n",
      " 28  bmi_category_obesity        973 non-null    float64\n",
      " 29  bmi_category_overweight     973 non-null    float64\n",
      " 30  bmi_category_sever obesity  973 non-null    float64\n",
      " 31  bmi_category_under weight   973 non-null    float64\n",
      " 32  hrr                         973 non-null    float64\n",
      " 33  intensity                   973 non-null    float64\n",
      " 34  calories_per_min            973 non-null    float64\n",
      " 35  water_per_session           973 non-null    float64\n",
      " 36  experience_intensity_ratio  973 non-null    float64\n",
      "dtypes: float64(37)\n",
      "memory usage: 281.4 KB\n"
     ]
    }
   ],
   "source": [
    "try:\n",
    "    df.info()\n",
    "except Exception as e:\n",
    "    logger.error(f'error during dataset validation : {e}')\n",
    "    print(f'error: {e}')"
   ]
  },
  {
   "cell_type": "markdown",
   "id": "c1d2a3f4",
   "metadata": {},
   "source": [
    "# Import"
   ]
  },
  {
   "cell_type": "code",
   "execution_count": 21,
   "id": "5445e190",
   "metadata": {},
   "outputs": [],
   "source": [
    "from sklearn.model_selection import train_test_split\n",
    "\n",
    "from sklearn.linear_model import LinearRegression, LassoCV, RidgeCV, ElasticNetCV\n",
    "from sklearn.tree import DecisionTreeRegressor\n",
    "from sklearn.ensemble import RandomForestRegressor, GradientBoostingRegressor, ExtraTreesRegressor, HistGradientBoostingRegressor, AdaBoostRegressor\n",
    "from sklearn.svm import SVR\n",
    "from sklearn.neighbors import KNeighborsRegressor\n",
    "import xgboost\n",
    "\n",
    "from tabulate import tabulate\n",
    "from rich.console import Console\n",
    "from rich.table import Table"
   ]
  },
  {
   "cell_type": "markdown",
   "id": "7695fa69",
   "metadata": {},
   "source": [
    "# Single Split"
   ]
  },
  {
   "cell_type": "code",
   "execution_count": 22,
   "id": "d6a537c3",
   "metadata": {},
   "outputs": [
    {
     "name": "stdout",
     "output_type": "stream",
     "text": [
      "(973, 36) (973,)\n"
     ]
    }
   ],
   "source": [
    "try:\n",
    "    x = df.drop('fat_percentage', axis=1)\n",
    "    y = df['fat_percentage']\n",
    "\n",
    "    x_train, x_test, y_train, y_test = train_test_split(x, y, test_size=0.2, random_state=42)\n",
    "\n",
    "    logger.info(f'dataset splited to x: {x.shape}, y: {y.shape}')\n",
    "    print(x.shape, y.shape)\n",
    "    \n",
    "except Exception as e:\n",
    "    logger.error(f'error during splitting dataset : {e}')\n",
    "    print(f'error: {e}')"
   ]
  },
  {
   "cell_type": "markdown",
   "id": "2f53638a",
   "metadata": {},
   "source": [
    "# Model Training"
   ]
  },
  {
   "cell_type": "code",
   "execution_count": 23,
   "id": "b03a8673",
   "metadata": {},
   "outputs": [],
   "source": [
    "try:\n",
    "    models = [\n",
    "        LinearRegression(),\n",
    "        LassoCV(cv=10, random_state=42),\n",
    "        RidgeCV(cv=10),\n",
    "        ElasticNetCV(cv=10, random_state=42),\n",
    "        DecisionTreeRegressor(random_state=42),\n",
    "        RandomForestRegressor(random_state=42, n_estimators=200),\n",
    "        GradientBoostingRegressor(random_state=42),\n",
    "        HistGradientBoostingRegressor(random_state=42),\n",
    "        ExtraTreesRegressor(random_state=42),\n",
    "        AdaBoostRegressor(random_state=42),\n",
    "        xgboost.XGBRegressor(random_state=42),\n",
    "        SVR(kernel='rbf', C=20.0),\n",
    "        KNeighborsRegressor(n_neighbors=10)\n",
    "    ]\n",
    "\n",
    "    results = []\n",
    "    best_r2 = -float(\"inf\")\n",
    "    best_trained_model = None\n",
    "    best_model_name = \"\"\n",
    "\n",
    "    for model in models:\n",
    "        trainer = Trainer(model, x, y)\n",
    "        trainer.train().evaluate()\n",
    "\n",
    "        results.append([model.__class__.__name__, trainer.r2, trainer.mae, trainer.kfold.mean(), trainer.kfold.std()])\n",
    "\n",
    "        if trainer.r2 > best_r2:\n",
    "            best_r2 = trainer.r2\n",
    "            best_trained_model = trainer.model\n",
    "            best_model_name = model.__class__.__name__\n",
    "    \n",
    "    logger.info(f'all models trained successfully! best model: {best_model_name}')\n",
    "    \n",
    "except Exception as e:\n",
    "    logger.error(f'error during training models: {e}')\n",
    "    print(f'error: {e}')"
   ]
  },
  {
   "cell_type": "markdown",
   "id": "7992d129",
   "metadata": {},
   "source": [
    "# Table compare"
   ]
  },
  {
   "cell_type": "code",
   "execution_count": null,
   "id": "5ea3ce77",
   "metadata": {},
   "outputs": [
    {
     "data": {
      "text/html": [
       "<pre style=\"white-space:pre;overflow-x:auto;line-height:normal;font-family:Menlo,'DejaVu Sans Mono',consolas,'Courier New',monospace\"><span style=\"font-style: italic\">                                       Models Compare                                        </span>\n",
       "┏━━━━━━━━━━━━━━━━━━━━━━━━━━━━━━━┳━━━━━━━━━━┳━━━━━━━━━━━━━━━━━━━━━┳━━━━━━━━━━━━━┳━━━━━━━━━━━━┓\n",
       "┃<span style=\"font-weight: bold\"> Algorithm                     </span>┃<span style=\"font-weight: bold\"> R2 score </span>┃<span style=\"font-weight: bold\"> Mean Absolute Error </span>┃<span style=\"font-weight: bold\"> K-Fold Mean </span>┃<span style=\"font-weight: bold\"> K-Fold Std </span>┃\n",
       "┡━━━━━━━━━━━━━━━━━━━━━━━━━━━━━━━╇━━━━━━━━━━╇━━━━━━━━━━━━━━━━━━━━━╇━━━━━━━━━━━━━╇━━━━━━━━━━━━┩\n",
       "│ <span style=\"color: #008000; text-decoration-color: #008000; font-weight: bold\">DecisionTreeRegressor</span>         │ <span style=\"color: #008000; text-decoration-color: #008000; font-weight: bold\">0.807861</span> │            <span style=\"color: #008000; text-decoration-color: #008000; font-weight: bold\">2.401514</span> │    <span style=\"color: #008000; text-decoration-color: #008000; font-weight: bold\">0.807799</span> │   <span style=\"color: #008000; text-decoration-color: #008000; font-weight: bold\">0.023107</span> │\n",
       "├───────────────────────────────┼──────────┼─────────────────────┼─────────────┼────────────┤\n",
       "│ AdaBoostRegressor             │ 0.798029 │            2.405071 │    0.806119 │   0.021484 │\n",
       "├───────────────────────────────┼──────────┼─────────────────────┼─────────────┼────────────┤\n",
       "│ GradientBoostingRegressor     │ 0.796675 │            2.418425 │    0.797756 │   0.020910 │\n",
       "├───────────────────────────────┼──────────┼─────────────────────┼─────────────┼────────────┤\n",
       "│ ExtraTreesRegressor           │ 0.783759 │            2.454513 │    0.771984 │   0.028813 │\n",
       "├───────────────────────────────┼──────────┼─────────────────────┼─────────────┼────────────┤\n",
       "│ HistGradientBoostingRegressor │ 0.776484 │            2.474479 │    0.769885 │   0.029136 │\n",
       "├───────────────────────────────┼──────────┼─────────────────────┼─────────────┼────────────┤\n",
       "│ RandomForestRegressor         │ 0.755786 │            2.545864 │    0.749791 │   0.027637 │\n",
       "├───────────────────────────────┼──────────┼─────────────────────┼─────────────┼────────────┤\n",
       "│ XGBRegressor                  │ 0.738158 │            2.610484 │    0.749481 │   0.021130 │\n",
       "├───────────────────────────────┼──────────┼─────────────────────┼─────────────┼────────────┤\n",
       "│ SVR                           │ 0.715963 │            2.873354 │    0.702353 │   0.034769 │\n",
       "├───────────────────────────────┼──────────┼─────────────────────┼─────────────┼────────────┤\n",
       "│ KNeighborsRegressor           │ 0.634334 │            3.155641 │    0.622732 │   0.052868 │\n",
       "├───────────────────────────────┼──────────┼─────────────────────┼─────────────┼────────────┤\n",
       "│ LinearRegression              │ 0.632658 │            3.200625 │    0.627152 │   0.034441 │\n",
       "├───────────────────────────────┼──────────┼─────────────────────┼─────────────┼────────────┤\n",
       "│ ElasticNetCV                  │ 0.632472 │            3.187702 │    0.630531 │   0.034940 │\n",
       "├───────────────────────────────┼──────────┼─────────────────────┼─────────────┼────────────┤\n",
       "│ RidgeCV                       │ 0.632334 │            3.181150 │    0.640356 │   0.025438 │\n",
       "├───────────────────────────────┼──────────┼─────────────────────┼─────────────┼────────────┤\n",
       "│ <span style=\"color: #ff875f; text-decoration-color: #ff875f; font-weight: bold\">LassoCV</span>                       │ <span style=\"color: #ff875f; text-decoration-color: #ff875f; font-weight: bold\">0.630738</span> │            <span style=\"color: #ff875f; text-decoration-color: #ff875f; font-weight: bold\">3.206464</span> │    <span style=\"color: #ff875f; text-decoration-color: #ff875f; font-weight: bold\">0.634964</span> │   <span style=\"color: #ff875f; text-decoration-color: #ff875f; font-weight: bold\">0.035058</span> │\n",
       "└───────────────────────────────┴──────────┴─────────────────────┴─────────────┴────────────┘\n",
       "</pre>\n"
      ],
      "text/plain": [
       "\u001b[3m                                       Models Compare                                        \u001b[0m\n",
       "┏━━━━━━━━━━━━━━━━━━━━━━━━━━━━━━━┳━━━━━━━━━━┳━━━━━━━━━━━━━━━━━━━━━┳━━━━━━━━━━━━━┳━━━━━━━━━━━━┓\n",
       "┃\u001b[1m \u001b[0m\u001b[1mAlgorithm                    \u001b[0m\u001b[1m \u001b[0m┃\u001b[1m \u001b[0m\u001b[1mR2 score\u001b[0m\u001b[1m \u001b[0m┃\u001b[1m \u001b[0m\u001b[1mMean Absolute Error\u001b[0m\u001b[1m \u001b[0m┃\u001b[1m \u001b[0m\u001b[1mK-Fold Mean\u001b[0m\u001b[1m \u001b[0m┃\u001b[1m \u001b[0m\u001b[1mK-Fold Std\u001b[0m\u001b[1m \u001b[0m┃\n",
       "┡━━━━━━━━━━━━━━━━━━━━━━━━━━━━━━━╇━━━━━━━━━━╇━━━━━━━━━━━━━━━━━━━━━╇━━━━━━━━━━━━━╇━━━━━━━━━━━━┩\n",
       "│ \u001b[1;32mDecisionTreeRegressor\u001b[0m         │ \u001b[1;32m0.807861\u001b[0m │            \u001b[1;32m2.401514\u001b[0m │    \u001b[1;32m0.807799\u001b[0m │   \u001b[1;32m0.023107\u001b[0m │\n",
       "├───────────────────────────────┼──────────┼─────────────────────┼─────────────┼────────────┤\n",
       "│ AdaBoostRegressor             │ 0.798029 │            2.405071 │    0.806119 │   0.021484 │\n",
       "├───────────────────────────────┼──────────┼─────────────────────┼─────────────┼────────────┤\n",
       "│ GradientBoostingRegressor     │ 0.796675 │            2.418425 │    0.797756 │   0.020910 │\n",
       "├───────────────────────────────┼──────────┼─────────────────────┼─────────────┼────────────┤\n",
       "│ ExtraTreesRegressor           │ 0.783759 │            2.454513 │    0.771984 │   0.028813 │\n",
       "├───────────────────────────────┼──────────┼─────────────────────┼─────────────┼────────────┤\n",
       "│ HistGradientBoostingRegressor │ 0.776484 │            2.474479 │    0.769885 │   0.029136 │\n",
       "├───────────────────────────────┼──────────┼─────────────────────┼─────────────┼────────────┤\n",
       "│ RandomForestRegressor         │ 0.755786 │            2.545864 │    0.749791 │   0.027637 │\n",
       "├───────────────────────────────┼──────────┼─────────────────────┼─────────────┼────────────┤\n",
       "│ XGBRegressor                  │ 0.738158 │            2.610484 │    0.749481 │   0.021130 │\n",
       "├───────────────────────────────┼──────────┼─────────────────────┼─────────────┼────────────┤\n",
       "│ SVR                           │ 0.715963 │            2.873354 │    0.702353 │   0.034769 │\n",
       "├───────────────────────────────┼──────────┼─────────────────────┼─────────────┼────────────┤\n",
       "│ KNeighborsRegressor           │ 0.634334 │            3.155641 │    0.622732 │   0.052868 │\n",
       "├───────────────────────────────┼──────────┼─────────────────────┼─────────────┼────────────┤\n",
       "│ LinearRegression              │ 0.632658 │            3.200625 │    0.627152 │   0.034441 │\n",
       "├───────────────────────────────┼──────────┼─────────────────────┼─────────────┼────────────┤\n",
       "│ ElasticNetCV                  │ 0.632472 │            3.187702 │    0.630531 │   0.034940 │\n",
       "├───────────────────────────────┼──────────┼─────────────────────┼─────────────┼────────────┤\n",
       "│ RidgeCV                       │ 0.632334 │            3.181150 │    0.640356 │   0.025438 │\n",
       "├───────────────────────────────┼──────────┼─────────────────────┼─────────────┼────────────┤\n",
       "│ \u001b[1;38;5;209mLassoCV\u001b[0m                       │ \u001b[1;38;5;209m0.630738\u001b[0m │            \u001b[1;38;5;209m3.206464\u001b[0m │    \u001b[1;38;5;209m0.634964\u001b[0m │   \u001b[1;38;5;209m0.035058\u001b[0m │\n",
       "└───────────────────────────────┴──────────┴─────────────────────┴─────────────┴────────────┘\n"
      ]
     },
     "metadata": {},
     "output_type": "display_data"
    }
   ],
   "source": [
    "try:\n",
    "    console = Console()\n",
    "    results_sorted = sorted(results, key=lambda i: i[1], reverse=True)\n",
    "\n",
    "    best_model = results_sorted[0]\n",
    "    worst_model = results_sorted[-1]\n",
    "\n",
    "    table = Table(title=\"Models Compare\", show_lines=True)\n",
    "\n",
    "    table.add_column(\"Algorithm\")\n",
    "    table.add_column(\"R2 score\")\n",
    "    table.add_column(\"Mean Absolute Error\", justify=\"right\")\n",
    "    table.add_column(\"K-Fold Mean\", justify=\"right\")\n",
    "    table.add_column(\"K-Fold Std\", justify=\"right\")\n",
    "    \n",
    "    for row in results_sorted:\n",
    "        algo, r2, mae, kmean, kstd = row\n",
    "\n",
    "        if row == best_model:\n",
    "            table.add_row(\n",
    "                f\"[bold green]{algo}[/bold green]\",\n",
    "                f\"[bold green]{r2:.6f}[/bold green]\",\n",
    "                f\"[bold green]{mae:.6f}[/bold green]\",\n",
    "                f\"[bold green]{kmean:.6f}[/bold green]\",\n",
    "                f\"[bold green]{kstd:.6f}[/bold green]\"\n",
    "            )\n",
    "        elif row == worst_model:\n",
    "            table.add_row(\n",
    "                f\"[bold salmon1]{algo}[/bold salmon1]\",\n",
    "                f\"[bold salmon1]{r2:.6f}[/bold salmon1]\",\n",
    "                f\"[bold salmon1]{mae:.6f}[/bold salmon1]\",\n",
    "                f\"[bold salmon1]{kmean:.6f}[/bold salmon1]\",\n",
    "                f\"[bold salmon1]{kstd:.6f}[/bold salmon1]\"\n",
    "            )\n",
    "        else:\n",
    "            table.add_row(algo, f\"{r2:.6f}\", f\"{mae:.6f}\", f\"{kmean:.6f}\", f\"{kstd:.6f}\")\n",
    "            \n",
    "    console.print(table)\n",
    "\n",
    "except Exception as e:\n",
    "    logger.error(f'Error during create table: {str(e)}')\n",
    "    print(f'error: {e}')"
   ]
  }
 ],
 "metadata": {
  "kernelspec": {
   "display_name": "Python 3",
   "language": "python",
   "name": "python3"
  },
  "language_info": {
   "codemirror_mode": {
    "name": "ipython",
    "version": 3
   },
   "file_extension": ".py",
   "mimetype": "text/x-python",
   "name": "python",
   "nbconvert_exporter": "python",
   "pygments_lexer": "ipython3",
   "version": "3.11.9"
  }
 },
 "nbformat": 4,
 "nbformat_minor": 5
}
