{
 "cells": [
  {
   "cell_type": "code",
   "execution_count": 1,
   "id": "ca035a4c",
   "metadata": {},
   "outputs": [],
   "source": [
    "import pandas as pd\n",
    "from sklearn.model_selection import train_test_split, KFold, cross_val_score\n",
    "from sklearn.metrics import r2_score, mean_absolute_error\n",
    "import numpy as np"
   ]
  },
  {
   "cell_type": "code",
   "execution_count": 2,
   "id": "01cdd998",
   "metadata": {},
   "outputs": [],
   "source": [
    "df = pd.read_csv(\"../../data/final/final_gym_dataset.csv\")"
   ]
  },
  {
   "cell_type": "code",
   "execution_count": 3,
   "id": "3f695380",
   "metadata": {},
   "outputs": [
    {
     "name": "stdout",
     "output_type": "stream",
     "text": [
      "<class 'pandas.core.frame.DataFrame'>\n",
      "RangeIndex: 973 entries, 0 to 972\n",
      "Data columns (total 37 columns):\n",
      " #   Column                      Non-Null Count  Dtype  \n",
      "---  ------                      --------------  -----  \n",
      " 0   age                         973 non-null    float64\n",
      " 1   weight                      973 non-null    float64\n",
      " 2   height                      973 non-null    float64\n",
      " 3   max_bpm                     973 non-null    float64\n",
      " 4   avg_bpm                     973 non-null    float64\n",
      " 5   resting_bpm                 973 non-null    float64\n",
      " 6   session_duration            973 non-null    float64\n",
      " 7   calories_burned             973 non-null    float64\n",
      " 8   fat_percentage              973 non-null    float64\n",
      " 9   water_intake                973 non-null    float64\n",
      " 10  workout_frequency           973 non-null    float64\n",
      " 11  experience_level            973 non-null    float64\n",
      " 12  bmi                         973 non-null    float64\n",
      " 13  gender_Female               973 non-null    float64\n",
      " 14  gender_Male                 973 non-null    float64\n",
      " 15  workout_type_Cardio         973 non-null    float64\n",
      " 16  workout_type_HIIT           973 non-null    float64\n",
      " 17  workout_type_Strength       973 non-null    float64\n",
      " 18  workout_type_Yoga           973 non-null    float64\n",
      " 19  age_category_0-29           973 non-null    float64\n",
      " 20  age_category_30-39          973 non-null    float64\n",
      " 21  age_category_40-49          973 non-null    float64\n",
      " 22  age_category_50-100         973 non-null    float64\n",
      " 23  weight_category_100-130     973 non-null    float64\n",
      " 24  weight_category_40-59       973 non-null    float64\n",
      " 25  weight_category_60-79       973 non-null    float64\n",
      " 26  weight_category_80-99       973 non-null    float64\n",
      " 27  bmi_category_healthy        973 non-null    float64\n",
      " 28  bmi_category_obesity        973 non-null    float64\n",
      " 29  bmi_category_overweight     973 non-null    float64\n",
      " 30  bmi_category_sever obesity  973 non-null    float64\n",
      " 31  bmi_category_under weight   973 non-null    float64\n",
      " 32  hrr                         973 non-null    float64\n",
      " 33  intensity                   973 non-null    float64\n",
      " 34  calories_per_min            973 non-null    float64\n",
      " 35  water_per_session           973 non-null    float64\n",
      " 36  experience_intensity_ratio  973 non-null    float64\n",
      "dtypes: float64(37)\n",
      "memory usage: 281.4 KB\n"
     ]
    }
   ],
   "source": [
    "df.info()"
   ]
  },
  {
   "cell_type": "code",
   "execution_count": 4,
   "id": "77944bdb",
   "metadata": {},
   "outputs": [],
   "source": [
    "x = df.drop('fat_percentage', axis=1)\n",
    "y = df['fat_percentage']\n",
    "\n",
    "x_train, x_test, y_train, y_test = train_test_split(x, y, test_size=0.2, random_state=42)\n",
    "kf = KFold(n_splits=5, shuffle=True, random_state=42)"
   ]
  },
  {
   "cell_type": "markdown",
   "id": "861f06b3",
   "metadata": {},
   "source": [
    "# 1. LinearRegression"
   ]
  },
  {
   "cell_type": "code",
   "execution_count": 5,
   "id": "1122caa3",
   "metadata": {},
   "outputs": [
    {
     "name": "stdout",
     "output_type": "stream",
     "text": [
      "Linear Regression R2: 0.6326583761679292\n",
      "Linear Regression MAE: 3.200625371154567\n",
      "K-Fold mean: 0.6271518130420031\n",
      "K-Fold std: 0.034441143105037986\n"
     ]
    }
   ],
   "source": [
    "from sklearn.linear_model import LinearRegression\n",
    "\n",
    "lr = LinearRegression()\n",
    "lr.fit(x_train, y_train)\n",
    "\n",
    "y_pred = lr.predict(x_test)\n",
    "\n",
    "lr_score = r2_score(y_test, y_pred)\n",
    "lr_mae = mean_absolute_error(y_test, y_pred)\n",
    "lr_scores = cross_val_score(lr, x, y, cv=kf, scoring='r2')\n",
    "\n",
    "print(\"Linear Regression R2:\", lr_score)\n",
    "print(\"Linear Regression MAE:\", lr_mae)\n",
    "print(\"K-Fold mean:\", lr_scores.mean())\n",
    "print(\"K-Fold std:\", lr_scores.std())"
   ]
  },
  {
   "cell_type": "markdown",
   "id": "7b3172f2",
   "metadata": {},
   "source": [
    "# 2. Lasso"
   ]
  },
  {
   "cell_type": "code",
   "execution_count": 6,
   "id": "f2cbda93",
   "metadata": {},
   "outputs": [
    {
     "name": "stdout",
     "output_type": "stream",
     "text": [
      "Lasso Regression R2: 0.630737556287549\n",
      "Lasso Regression MAE: 3.2064637056208873\n",
      "K-Fold mean: 0.6349639520182755\n",
      "K-Fold std: 0.03505750415844593\n",
      "Selected features: ['resting_bpm', 'session_duration', 'calories_burned', 'water_intake', 'workout_frequency', 'experience_level', 'gender_Female', 'workout_type_Cardio', 'workout_type_HIIT', 'workout_type_Strength', 'workout_type_Yoga', 'age_category_40-49', 'weight_category_60-79', 'weight_category_80-99', 'bmi_category_healthy', 'bmi_category_obesity', 'bmi_category_overweight', 'water_per_session']\n"
     ]
    }
   ],
   "source": [
    "from sklearn.linear_model import LassoCV\n",
    "\n",
    "lasso = LassoCV(cv=10, random_state=42)\n",
    "lasso.fit(x_train, y_train)\n",
    "\n",
    "importance = np.abs(lasso.coef_)\n",
    "selected_features = x_train.columns[importance > 0]\n",
    "\n",
    "lasso.fit(x_train[selected_features], y_train)\n",
    "y_pred = lasso.predict(x_test[selected_features])\n",
    "\n",
    "lasso_score = r2_score(y_test, y_pred)\n",
    "lasso_mae = mean_absolute_error(y_test, y_pred)\n",
    "lasso_scores = cross_val_score(lasso, x[selected_features], y, cv=kf, scoring='r2')\n",
    "\n",
    "print(\"Lasso Regression R2:\", lasso_score)\n",
    "print(\"Lasso Regression MAE:\", lasso_mae)\n",
    "print(\"K-Fold mean:\", lasso_scores.mean())\n",
    "print(\"K-Fold std:\", lasso_scores.std())\n",
    "print(\"Selected features:\", list(selected_features))"
   ]
  },
  {
   "cell_type": "markdown",
   "id": "62ea4ff8",
   "metadata": {},
   "source": [
    "# 3. Ridge"
   ]
  },
  {
   "cell_type": "code",
   "execution_count": 7,
   "id": "8f1267f1",
   "metadata": {},
   "outputs": [
    {
     "name": "stdout",
     "output_type": "stream",
     "text": [
      "Ridge Regression R2: 0.6323339771358308\n",
      "Ridge Regression MAE: 3.1811499627256254\n",
      "K-Fold mean: 0.6403559066149989\n",
      "K-Fold std: 0.025437919421281978\n",
      "Selected features: ['session_duration', 'calories_burned', 'water_intake', 'workout_frequency', 'experience_level', 'gender_Female', 'gender_Male', 'weight_category_80-99', 'water_per_session', 'experience_intensity_ratio']\n"
     ]
    }
   ],
   "source": [
    "from sklearn.linear_model import RidgeCV\n",
    "\n",
    "ridge = RidgeCV(cv=10)\n",
    "ridge.fit(x_train, y_train)\n",
    "\n",
    "importance = np.abs(ridge.coef_)\n",
    "selected_features = x_train.columns[importance > np.mean(importance)]\n",
    "\n",
    "ridge.fit(x_train[selected_features], y_train)\n",
    "y_pred = ridge.predict(x_test[selected_features])\n",
    "\n",
    "ridge_score = r2_score(y_test, y_pred)\n",
    "ridge_mae = mean_absolute_error(y_test, y_pred)\n",
    "ridge_scores = cross_val_score(ridge, x[selected_features], y, cv=kf, scoring='r2')\n",
    "\n",
    "print(\"Ridge Regression R2:\", ridge_score)\n",
    "print(\"Ridge Regression MAE:\", ridge_mae)\n",
    "print(\"K-Fold mean:\", ridge_scores.mean())\n",
    "print(\"K-Fold std:\", ridge_scores.std())\n",
    "print(\"Selected features:\", list(selected_features))"
   ]
  },
  {
   "cell_type": "markdown",
   "id": "86ffa79d",
   "metadata": {},
   "source": [
    "# 4. ElasticNet"
   ]
  },
  {
   "cell_type": "code",
   "execution_count": 8,
   "id": "241a6bb2",
   "metadata": {},
   "outputs": [
    {
     "name": "stdout",
     "output_type": "stream",
     "text": [
      "ElasticNet R2: 0.6324723087446029\n",
      "ElasticNet MAE: 3.1877017816188213\n",
      "K-Fold mean: 0.630530656427059\n",
      "K-Fold std: 0.03493955817273135\n",
      "Selected features: ['height', 'max_bpm', 'avg_bpm', 'resting_bpm', 'session_duration', 'calories_burned', 'water_intake', 'workout_frequency', 'experience_level', 'gender_Female', 'gender_Male', 'workout_type_Cardio', 'workout_type_HIIT', 'workout_type_Strength', 'workout_type_Yoga', 'age_category_30-39', 'age_category_40-49', 'age_category_50-100', 'weight_category_40-59', 'weight_category_60-79', 'weight_category_80-99', 'bmi_category_healthy', 'bmi_category_obesity', 'bmi_category_overweight', 'bmi_category_under weight', 'hrr', 'water_per_session', 'experience_intensity_ratio']\n",
      "--------------------------------------------------\n"
     ]
    }
   ],
   "source": [
    "from sklearn.linear_model import ElasticNetCV\n",
    "\n",
    "elastic = ElasticNetCV(cv=10, random_state=42)\n",
    "elastic.fit(x_train, y_train)\n",
    "\n",
    "importance = np.abs(elastic.coef_)\n",
    "selected_features = x_train.columns[importance > 0]\n",
    "\n",
    "elastic.fit(x_train[selected_features], y_train)\n",
    "y_pred = elastic.predict(x_test[selected_features])\n",
    "\n",
    "elastic_score = r2_score(y_test, y_pred)\n",
    "elastic_mae = mean_absolute_error(y_test, y_pred)\n",
    "elastic_scores = cross_val_score(elastic, x[selected_features], y, cv=kf, scoring='r2')\n",
    "\n",
    "print(\"ElasticNet R2:\", elastic_score)\n",
    "print(\"ElasticNet MAE:\", elastic_mae)\n",
    "print(\"K-Fold mean:\", elastic_scores.mean())\n",
    "print(\"K-Fold std:\", elastic_scores.std())\n",
    "print(\"Selected features:\", list(selected_features))\n",
    "print(\"--------------------------------------------------\")\n"
   ]
  },
  {
   "cell_type": "markdown",
   "id": "bc1f37d9",
   "metadata": {},
   "source": [
    "# 5. Decision Tree"
   ]
  },
  {
   "cell_type": "code",
   "execution_count": 9,
   "id": "82e5e8a7",
   "metadata": {},
   "outputs": [
    {
     "name": "stdout",
     "output_type": "stream",
     "text": [
      "Decision Tree R2: 0.8078610298785487\n",
      "Decision Tree MAE: 2.4015135749596475\n",
      "K-Fold mean: 0.8077986684058436\n",
      "K-Fold std: 0.023107022876457176\n",
      "Selected features: ['experience_level', 'gender_Female', 'gender_Male']\n"
     ]
    }
   ],
   "source": [
    "from sklearn.tree import DecisionTreeRegressor\n",
    "\n",
    "dt = DecisionTreeRegressor(random_state=42)\n",
    "dt.fit(x_train, y_train)\n",
    "\n",
    "importance = dt.feature_importances_\n",
    "selected_features = x_train.columns[importance > np.mean(importance)]\n",
    "\n",
    "dt.fit(x_train[selected_features], y_train)\n",
    "y_pred = dt.predict(x_test[selected_features])\n",
    "\n",
    "dt_score = r2_score(y_test, y_pred)\n",
    "dt_mae = mean_absolute_error(y_test, y_pred)\n",
    "dt_scores = cross_val_score(dt, x[selected_features], y, cv=kf, scoring='r2')\n",
    "\n",
    "print(\"Decision Tree R2:\", dt_score)\n",
    "print(\"Decision Tree MAE:\", dt_mae)\n",
    "print(\"K-Fold mean:\", dt_scores.mean())\n",
    "print(\"K-Fold std:\", dt_scores.std())\n",
    "print(\"Selected features:\", list(selected_features))"
   ]
  },
  {
   "cell_type": "markdown",
   "id": "d5f91ae7",
   "metadata": {},
   "source": [
    "# 6. Random Forest"
   ]
  },
  {
   "cell_type": "code",
   "execution_count": 10,
   "id": "74c0ccdd",
   "metadata": {},
   "outputs": [
    {
     "name": "stdout",
     "output_type": "stream",
     "text": [
      "Random Forest R2: 0.7557856131703684\n",
      "Random Forest MAE: 2.5458638251203327\n",
      "K-Fold mean: 0.7497906702624347\n",
      "K-Fold std: 0.02763677774940567\n",
      "Selected features: ['session_duration', 'experience_level', 'gender_Female', 'gender_Male']\n"
     ]
    }
   ],
   "source": [
    "from sklearn.ensemble import RandomForestRegressor\n",
    "\n",
    "rf = RandomForestRegressor(n_estimators=200, random_state=42)\n",
    "rf.fit(x_train, y_train)\n",
    "\n",
    "importance = rf.feature_importances_\n",
    "selected_features = x_train.columns[importance > np.mean(importance)]\n",
    "\n",
    "rf.fit(x_train[selected_features], y_train)\n",
    "y_pred = rf.predict(x_test[selected_features])\n",
    "\n",
    "rf_score = r2_score(y_test, y_pred)\n",
    "rf_mae = mean_absolute_error(y_test, y_pred)\n",
    "rf_scores = cross_val_score(rf, x[selected_features], y, cv=kf, scoring='r2')\n",
    "\n",
    "print(\"Random Forest R2:\", rf_score)\n",
    "print(\"Random Forest MAE:\", rf_mae)\n",
    "print(\"K-Fold mean:\", rf_scores.mean())\n",
    "print(\"K-Fold std:\", rf_scores.std())\n",
    "print(\"Selected features:\", list(selected_features))"
   ]
  },
  {
   "cell_type": "markdown",
   "id": "fbb74c10",
   "metadata": {},
   "source": [
    "# 7. Gradient Boosting"
   ]
  },
  {
   "cell_type": "code",
   "execution_count": 11,
   "id": "fe5e845d",
   "metadata": {},
   "outputs": [
    {
     "name": "stdout",
     "output_type": "stream",
     "text": [
      "Gradient Boosting R2: 0.7966747822953737\n",
      "Gradient Boosting MAE: 2.418425289533779\n",
      "K-Fold mean: 0.7977559395993147\n",
      "K-Fold std: 0.020910421295707134\n",
      "Selected features: ['session_duration', 'experience_level', 'gender_Female', 'gender_Male']\n"
     ]
    }
   ],
   "source": [
    "from sklearn.ensemble import GradientBoostingRegressor\n",
    "\n",
    "gbr = GradientBoostingRegressor(random_state=42)\n",
    "gbr.fit(x_train, y_train)\n",
    "\n",
    "importance = gbr.feature_importances_\n",
    "selected_features = x_train.columns[importance > np.mean(importance)]\n",
    "\n",
    "gbr.fit(x_train[selected_features], y_train)\n",
    "y_pred = gbr.predict(x_test[selected_features])\n",
    "\n",
    "gbr_score = r2_score(y_test, y_pred)\n",
    "gbr_mae = mean_absolute_error(y_test, y_pred)\n",
    "gbr_scores = cross_val_score(gbr, x[selected_features], y, cv=kf, scoring='r2')\n",
    "\n",
    "print(\"Gradient Boosting R2:\", gbr_score)\n",
    "print(\"Gradient Boosting MAE:\", gbr_mae)\n",
    "print(\"K-Fold mean:\", gbr_scores.mean())\n",
    "print(\"K-Fold std:\", gbr_scores.std())\n",
    "print(\"Selected features:\", list(selected_features))"
   ]
  },
  {
   "cell_type": "markdown",
   "id": "31665179",
   "metadata": {},
   "source": [
    "# 8. Extra Tree"
   ]
  },
  {
   "cell_type": "code",
   "execution_count": 12,
   "id": "8a300a2c",
   "metadata": {},
   "outputs": [
    {
     "name": "stdout",
     "output_type": "stream",
     "text": [
      "Extra Trees R2: 0.7837585737468733\n",
      "Extra Trees MAE: 2.4545128205128224\n",
      "K-Fold mean: 0.7719843795918809\n",
      "K-Fold std: 0.028813152031781156\n",
      "Selected features: ['session_duration', 'calories_burned', 'water_intake', 'workout_frequency', 'experience_level', 'gender_Female', 'gender_Male', 'weight_category_80-99', 'experience_intensity_ratio']\n"
     ]
    }
   ],
   "source": [
    "from sklearn.ensemble import ExtraTreesRegressor\n",
    "\n",
    "et = ExtraTreesRegressor(random_state=42)\n",
    "et.fit(x_train, y_train)\n",
    "\n",
    "importance = et.feature_importances_\n",
    "selected_features = x_train.columns[importance > np.mean(importance)]\n",
    "\n",
    "et.fit(x_train[selected_features], y_train)\n",
    "y_pred = et.predict(x_test[selected_features])\n",
    "\n",
    "et_score = r2_score(y_test, y_pred)\n",
    "et_mae = mean_absolute_error(y_test, y_pred)\n",
    "et_scores = cross_val_score(et, x[selected_features], y, cv=kf, scoring='r2')\n",
    "\n",
    "print(\"Extra Trees R2:\", et_score)\n",
    "print(\"Extra Trees MAE:\", et_mae)\n",
    "print(\"K-Fold mean:\", et_scores.mean())\n",
    "print(\"K-Fold std:\", et_scores.std())\n",
    "print(\"Selected features:\", list(selected_features))"
   ]
  },
  {
   "cell_type": "markdown",
   "id": "f8b48670",
   "metadata": {},
   "source": [
    "# 9. Hist Gradient Boosting"
   ]
  },
  {
   "cell_type": "code",
   "execution_count": 13,
   "id": "50b46f90",
   "metadata": {},
   "outputs": [
    {
     "name": "stdout",
     "output_type": "stream",
     "text": [
      "HistGradientBoosting R2: 0.7764844693793314\n",
      "HistGradientBoosting MAE: 2.4744790608962037\n",
      "K-Fold mean: 0.7698849274129183\n",
      "K-Fold std: 0.02913555316869835\n"
     ]
    }
   ],
   "source": [
    "from sklearn.ensemble import HistGradientBoostingRegressor\n",
    "\n",
    "hgb = HistGradientBoostingRegressor(random_state=42)\n",
    "hgb.fit(x_train, y_train)\n",
    "\n",
    "y_pred = hgb.predict(x_test)\n",
    "\n",
    "hgb_score = r2_score(y_test, y_pred)\n",
    "hgb_mae = mean_absolute_error(y_test, y_pred)\n",
    "hgb_scores = cross_val_score(hgb, x, y, cv=kf, scoring='r2')\n",
    "\n",
    "print(\"HistGradientBoosting R2:\", hgb_score)\n",
    "print(\"HistGradientBoosting MAE:\", hgb_mae)\n",
    "print(\"K-Fold mean:\", hgb_scores.mean())\n",
    "print(\"K-Fold std:\", hgb_scores.std())"
   ]
  },
  {
   "cell_type": "markdown",
   "id": "cfd7ed31",
   "metadata": {},
   "source": [
    "# 10. SVM"
   ]
  },
  {
   "cell_type": "code",
   "execution_count": 14,
   "id": "964ac304",
   "metadata": {},
   "outputs": [
    {
     "name": "stdout",
     "output_type": "stream",
     "text": [
      "SVM R2: 0.7159633413448081\n",
      "SVM MAE: 2.873353522969533\n",
      "K-Fold mean: 0.7023530991343359\n",
      "K-Fold std: 0.03476933945123406\n"
     ]
    }
   ],
   "source": [
    "from sklearn.svm import SVR\n",
    "\n",
    "svm = SVR(kernel='rbf', C=20.0)\n",
    "\n",
    "svm.fit(x_train, y_train)\n",
    "y_pred = svm.predict(x_test)\n",
    "\n",
    "svm_score = r2_score(y_test, y_pred)\n",
    "svm_mae = mean_absolute_error(y_test, y_pred)\n",
    "svm_scores = cross_val_score(svm, x, y, cv=kf, scoring='r2')\n",
    "\n",
    "print(\"SVM R2:\", svm_score)\n",
    "print(\"SVM MAE:\", svm_mae)\n",
    "print(\"K-Fold mean:\", svm_scores.mean())\n",
    "print(\"K-Fold std:\", svm_scores.std())"
   ]
  },
  {
   "cell_type": "markdown",
   "id": "ff9e2841",
   "metadata": {},
   "source": [
    "# 11. KNN"
   ]
  },
  {
   "cell_type": "code",
   "execution_count": 15,
   "id": "4db7c008",
   "metadata": {},
   "outputs": [
    {
     "name": "stdout",
     "output_type": "stream",
     "text": [
      "KNN R2: 0.6343339035595035\n",
      "KNN MAE: 3.1556410256410263\n",
      "K-Fold mean: 0.6227322833819866\n",
      "K-Fold std: 0.05286810308338416\n"
     ]
    }
   ],
   "source": [
    "from sklearn.neighbors import KNeighborsRegressor\n",
    "\n",
    "knn = KNeighborsRegressor(n_neighbors=10)\n",
    "\n",
    "knn.fit(x_train, y_train)\n",
    "y_pred = knn.predict(x_test)\n",
    "\n",
    "knn_score = r2_score(y_test, y_pred)\n",
    "knn_mae = mean_absolute_error(y_test, y_pred)\n",
    "knn_scores = cross_val_score(knn, x, y, cv=kf, scoring='r2')\n",
    "\n",
    "print(\"KNN R2:\", knn_score)\n",
    "print(\"KNN MAE:\", knn_mae)\n",
    "print(\"K-Fold mean:\", knn_scores.mean())\n",
    "print(\"K-Fold std:\", knn_scores.std())"
   ]
  },
  {
   "cell_type": "markdown",
   "id": "2a38aa20",
   "metadata": {},
   "source": [
    "# 12. Adaboost"
   ]
  },
  {
   "cell_type": "code",
   "execution_count": 16,
   "id": "9a84e278",
   "metadata": {},
   "outputs": [
    {
     "name": "stdout",
     "output_type": "stream",
     "text": [
      "AdaBoost R2: 0.7980287604917363\n",
      "AdaBoost MAE: 2.405070933973988\n",
      "K-Fold mean: 0.8061185674351051\n",
      "K-Fold std: 0.021483721528177697\n",
      "Selected features: ['session_duration', 'experience_level', 'gender_Female', 'gender_Male']\n"
     ]
    }
   ],
   "source": [
    "from sklearn.ensemble import AdaBoostRegressor\n",
    "\n",
    "ada = AdaBoostRegressor(random_state=42)\n",
    "ada.fit(x_train, y_train)\n",
    "\n",
    "importance = ada.feature_importances_\n",
    "selected_features = x_train.columns[importance > np.mean(importance)]\n",
    "\n",
    "ada.fit(x_train[selected_features], y_train)\n",
    "y_pred = ada.predict(x_test[selected_features])\n",
    "\n",
    "ada_score = r2_score(y_test, y_pred)\n",
    "ada_mae = mean_absolute_error(y_test, y_pred)\n",
    "ada_scores = cross_val_score(ada, x[selected_features], y, cv=kf, scoring='r2')\n",
    "\n",
    "print(\"AdaBoost R2:\", ada_score)\n",
    "print(\"AdaBoost MAE:\", ada_mae)\n",
    "print(\"K-Fold mean:\", ada_scores.mean())\n",
    "print(\"K-Fold std:\", ada_scores.std())\n",
    "print(\"Selected features:\", list(selected_features))"
   ]
  },
  {
   "cell_type": "markdown",
   "id": "c99daffc",
   "metadata": {},
   "source": [
    "# 13. XGBoost"
   ]
  },
  {
   "cell_type": "code",
   "execution_count": 17,
   "id": "74572d07",
   "metadata": {},
   "outputs": [
    {
     "name": "stdout",
     "output_type": "stream",
     "text": [
      "XGBoost R2: 0.7381580598910102\n",
      "XGBoost MAE: 2.610483653728778\n",
      "K-Fold mean: 0.7494813902877013\n",
      "K-Fold std: 0.021129763900929115\n",
      "Selected features: ['session_duration', 'gender_Female']\n"
     ]
    }
   ],
   "source": [
    "from xgboost import XGBRegressor\n",
    "\n",
    "xgb = XGBRegressor(random_state=42)\n",
    "xgb.fit(x_train, y_train)\n",
    "\n",
    "importance = xgb.feature_importances_\n",
    "selected_features = x_train.columns[importance > np.mean(importance)]\n",
    "\n",
    "xgb.fit(x_train[selected_features], y_train)\n",
    "y_pred = xgb.predict(x_test[selected_features])\n",
    "\n",
    "xgb_score = r2_score(y_test, y_pred)\n",
    "xgb_mae = mean_absolute_error(y_test, y_pred)\n",
    "xgb_scores = cross_val_score(xgb, x[selected_features], y, cv=kf, scoring='r2')\n",
    "\n",
    "print(\"XGBoost R2:\", xgb_score)\n",
    "print(\"XGBoost MAE:\", xgb_mae)\n",
    "print(\"K-Fold mean:\", xgb_scores.mean())\n",
    "print(\"K-Fold std:\", xgb_scores.std())\n",
    "print(\"Selected features:\", list(selected_features))"
   ]
  },
  {
   "cell_type": "code",
   "execution_count": 18,
   "id": "5f768244",
   "metadata": {},
   "outputs": [
    {
     "data": {
      "text/html": [
       "<pre style=\"white-space:pre;overflow-x:auto;line-height:normal;font-family:Menlo,'DejaVu Sans Mono',consolas,'Courier New',monospace\"><span style=\"font-style: italic\">                      Embedded Models Comparison                      </span>\n",
       "┏━━━━━━━━━━━━━━━━━━━┳━━━━━━━━━━┳━━━━━━━━━━┳━━━━━━━━━━━━━┳━━━━━━━━━━━━┓\n",
       "┃<span style=\"font-weight: bold\"> Algorithm         </span>┃<span style=\"font-weight: bold\"> R2 score </span>┃<span style=\"font-weight: bold\">      MAE </span>┃<span style=\"font-weight: bold\"> K-Fold mean </span>┃<span style=\"font-weight: bold\"> K-Fold std </span>┃\n",
       "┡━━━━━━━━━━━━━━━━━━━╇━━━━━━━━━━╇━━━━━━━━━━╇━━━━━━━━━━━━━╇━━━━━━━━━━━━┩\n",
       "│ <span style=\"color: #008000; text-decoration-color: #008000; font-weight: bold\">Decision Tree</span>     │ <span style=\"color: #008000; text-decoration-color: #008000; font-weight: bold\">0.807861</span> │ <span style=\"color: #008000; text-decoration-color: #008000; font-weight: bold\">2.401514</span> │    <span style=\"color: #008000; text-decoration-color: #008000; font-weight: bold\">0.807799</span> │   <span style=\"color: #008000; text-decoration-color: #008000; font-weight: bold\">0.023107</span> │\n",
       "├───────────────────┼──────────┼──────────┼─────────────┼────────────┤\n",
       "│ AdaBoost          │ 0.798029 │ 2.405071 │    0.806119 │   0.021484 │\n",
       "├───────────────────┼──────────┼──────────┼─────────────┼────────────┤\n",
       "│ Gradient Boosting │ 0.796675 │ 2.418425 │    0.797756 │   0.020910 │\n",
       "├───────────────────┼──────────┼──────────┼─────────────┼────────────┤\n",
       "│ Extra Trees       │ 0.783759 │ 2.454513 │    0.771984 │   0.028813 │\n",
       "├───────────────────┼──────────┼──────────┼─────────────┼────────────┤\n",
       "│ HistGradBoosting  │ 0.776484 │ 2.474479 │    0.769885 │   0.029136 │\n",
       "├───────────────────┼──────────┼──────────┼─────────────┼────────────┤\n",
       "│ Random Forest     │ 0.755786 │ 2.545864 │    0.749791 │   0.027637 │\n",
       "├───────────────────┼──────────┼──────────┼─────────────┼────────────┤\n",
       "│ XGBoost           │ 0.738158 │ 2.610484 │    0.749481 │   0.021130 │\n",
       "├───────────────────┼──────────┼──────────┼─────────────┼────────────┤\n",
       "│ SVR               │ 0.715963 │ 2.873354 │    0.702353 │   0.034769 │\n",
       "├───────────────────┼──────────┼──────────┼─────────────┼────────────┤\n",
       "│ KNN               │ 0.634334 │ 3.155641 │    0.622732 │   0.052868 │\n",
       "├───────────────────┼──────────┼──────────┼─────────────┼────────────┤\n",
       "│ Linear Regression │ 0.632658 │ 3.200625 │    0.627152 │   0.034441 │\n",
       "├───────────────────┼──────────┼──────────┼─────────────┼────────────┤\n",
       "│ ElasticNet        │ 0.632472 │ 3.187702 │    0.630531 │   0.034940 │\n",
       "├───────────────────┼──────────┼──────────┼─────────────┼────────────┤\n",
       "│ Ridge             │ 0.632334 │ 3.181150 │    0.640356 │   0.025438 │\n",
       "├───────────────────┼──────────┼──────────┼─────────────┼────────────┤\n",
       "│ <span style=\"color: #ff875f; text-decoration-color: #ff875f; font-weight: bold\">Lasso</span>             │ <span style=\"color: #ff875f; text-decoration-color: #ff875f; font-weight: bold\">0.630738</span> │ <span style=\"color: #ff875f; text-decoration-color: #ff875f; font-weight: bold\">3.206464</span> │    <span style=\"color: #ff875f; text-decoration-color: #ff875f; font-weight: bold\">0.634964</span> │   <span style=\"color: #ff875f; text-decoration-color: #ff875f; font-weight: bold\">0.035058</span> │\n",
       "└───────────────────┴──────────┴──────────┴─────────────┴────────────┘\n",
       "</pre>\n"
      ],
      "text/plain": [
       "\u001b[3m                      Embedded Models Comparison                      \u001b[0m\n",
       "┏━━━━━━━━━━━━━━━━━━━┳━━━━━━━━━━┳━━━━━━━━━━┳━━━━━━━━━━━━━┳━━━━━━━━━━━━┓\n",
       "┃\u001b[1m \u001b[0m\u001b[1mAlgorithm        \u001b[0m\u001b[1m \u001b[0m┃\u001b[1m \u001b[0m\u001b[1mR2 score\u001b[0m\u001b[1m \u001b[0m┃\u001b[1m \u001b[0m\u001b[1m     MAE\u001b[0m\u001b[1m \u001b[0m┃\u001b[1m \u001b[0m\u001b[1mK-Fold mean\u001b[0m\u001b[1m \u001b[0m┃\u001b[1m \u001b[0m\u001b[1mK-Fold std\u001b[0m\u001b[1m \u001b[0m┃\n",
       "┡━━━━━━━━━━━━━━━━━━━╇━━━━━━━━━━╇━━━━━━━━━━╇━━━━━━━━━━━━━╇━━━━━━━━━━━━┩\n",
       "│ \u001b[1;32mDecision Tree\u001b[0m     │ \u001b[1;32m0.807861\u001b[0m │ \u001b[1;32m2.401514\u001b[0m │    \u001b[1;32m0.807799\u001b[0m │   \u001b[1;32m0.023107\u001b[0m │\n",
       "├───────────────────┼──────────┼──────────┼─────────────┼────────────┤\n",
       "│ AdaBoost          │ 0.798029 │ 2.405071 │    0.806119 │   0.021484 │\n",
       "├───────────────────┼──────────┼──────────┼─────────────┼────────────┤\n",
       "│ Gradient Boosting │ 0.796675 │ 2.418425 │    0.797756 │   0.020910 │\n",
       "├───────────────────┼──────────┼──────────┼─────────────┼────────────┤\n",
       "│ Extra Trees       │ 0.783759 │ 2.454513 │    0.771984 │   0.028813 │\n",
       "├───────────────────┼──────────┼──────────┼─────────────┼────────────┤\n",
       "│ HistGradBoosting  │ 0.776484 │ 2.474479 │    0.769885 │   0.029136 │\n",
       "├───────────────────┼──────────┼──────────┼─────────────┼────────────┤\n",
       "│ Random Forest     │ 0.755786 │ 2.545864 │    0.749791 │   0.027637 │\n",
       "├───────────────────┼──────────┼──────────┼─────────────┼────────────┤\n",
       "│ XGBoost           │ 0.738158 │ 2.610484 │    0.749481 │   0.021130 │\n",
       "├───────────────────┼──────────┼──────────┼─────────────┼────────────┤\n",
       "│ SVR               │ 0.715963 │ 2.873354 │    0.702353 │   0.034769 │\n",
       "├───────────────────┼──────────┼──────────┼─────────────┼────────────┤\n",
       "│ KNN               │ 0.634334 │ 3.155641 │    0.622732 │   0.052868 │\n",
       "├───────────────────┼──────────┼──────────┼─────────────┼────────────┤\n",
       "│ Linear Regression │ 0.632658 │ 3.200625 │    0.627152 │   0.034441 │\n",
       "├───────────────────┼──────────┼──────────┼─────────────┼────────────┤\n",
       "│ ElasticNet        │ 0.632472 │ 3.187702 │    0.630531 │   0.034940 │\n",
       "├───────────────────┼──────────┼──────────┼─────────────┼────────────┤\n",
       "│ Ridge             │ 0.632334 │ 3.181150 │    0.640356 │   0.025438 │\n",
       "├───────────────────┼──────────┼──────────┼─────────────┼────────────┤\n",
       "│ \u001b[1;38;5;209mLasso\u001b[0m             │ \u001b[1;38;5;209m0.630738\u001b[0m │ \u001b[1;38;5;209m3.206464\u001b[0m │    \u001b[1;38;5;209m0.634964\u001b[0m │   \u001b[1;38;5;209m0.035058\u001b[0m │\n",
       "└───────────────────┴──────────┴──────────┴─────────────┴────────────┘\n"
      ]
     },
     "metadata": {},
     "output_type": "display_data"
    }
   ],
   "source": [
    "from rich.console import Console\n",
    "from rich.table import Table\n",
    "\n",
    "console = Console()\n",
    "\n",
    "results = [\n",
    "    ['Linear Regression', lr_score, lr_mae, lr_scores.mean(), lr_scores.std()],\n",
    "    ['Lasso', lasso_score, lasso_mae, lasso_scores.mean(), lasso_scores.std()],\n",
    "    ['Ridge', ridge_score, ridge_mae, ridge_scores.mean(), ridge_scores.std()],\n",
    "    ['ElasticNet', elastic_score, elastic_mae, elastic_scores.mean(), elastic_scores.std()],\n",
    "    ['Decision Tree', dt_score, dt_mae, dt_scores.mean(), dt_scores.std()],\n",
    "    ['Random Forest', rf_score, rf_mae, rf_scores.mean(), rf_scores.std()],\n",
    "    ['Gradient Boosting', gbr_score, gbr_mae, gbr_scores.mean(), gbr_scores.std()],\n",
    "    ['Extra Trees', et_score, et_mae, et_scores.mean(), et_scores.std()],\n",
    "    ['HistGradBoosting', hgb_score, hgb_mae, hgb_scores.mean(), hgb_scores.std()],\n",
    "    ['SVR', svm_score, svm_mae, svm_scores.mean(), svm_scores.std()],\n",
    "    ['KNN', knn_score, knn_mae, knn_scores.mean(), knn_scores.std()],\n",
    "    ['XGBoost', xgb_score, xgb_mae, xgb_scores.mean(), xgb_scores.std()],\n",
    "    ['AdaBoost', ada_score, ada_mae, ada_scores.mean(), ada_scores.std()]\n",
    "]\n",
    "\n",
    "result_sorted = sorted(results, key=lambda i: i[1], reverse=True)\n",
    "\n",
    "best_model = max(results, key=lambda x: x[1])\n",
    "worst_model = min(results, key=lambda x: x[1])\n",
    "\n",
    "table = Table(title=\"Embedded Models Comparison\", show_lines=True)\n",
    "table.add_column(\"Algorithm\")\n",
    "table.add_column(\"R2 score\")\n",
    "table.add_column(\"MAE\", justify=\"right\")\n",
    "table.add_column(\"K-Fold mean\", justify=\"right\")\n",
    "table.add_column(\"K-Fold std\", justify=\"right\")\n",
    "\n",
    "for row in result_sorted:\n",
    "    algo, r2, mae, kmean, kstd = row\n",
    "    if row == best_model:\n",
    "        table.add_row(f\"[bold green]{algo}[/bold green]\",\n",
    "                      f\"[bold green]{r2:.6f}[/bold green]\",\n",
    "                      f\"[bold green]{mae:.6f}[/bold green]\",\n",
    "                      f\"[bold green]{kmean:.6f}[/bold green]\",\n",
    "                      f\"[bold green]{kstd:.6f}[/bold green]\")\n",
    "    elif row == worst_model:\n",
    "        table.add_row(f\"[bold salmon1]{algo}[/bold salmon1]\",\n",
    "                      f\"[bold salmon1]{r2:.6f}[/bold salmon1]\",\n",
    "                      f\"[bold salmon1]{mae:.6f}[/bold salmon1]\",\n",
    "                      f\"[bold salmon1]{kmean:.6f}[/bold salmon1]\",\n",
    "                      f\"[bold salmon1]{kstd:.6f}[/bold salmon1]\")\n",
    "    else:\n",
    "        table.add_row(algo, f\"{r2:.6f}\", f\"{mae:.6f}\", f\"{kmean:.6f}\", f\"{kstd:.6f}\")\n",
    "\n",
    "console.print(table)"
   ]
  },
  {
   "cell_type": "code",
   "execution_count": null,
   "id": "8c78e533",
   "metadata": {},
   "outputs": [],
   "source": []
  }
 ],
 "metadata": {
  "kernelspec": {
   "display_name": "Python 3",
   "language": "python",
   "name": "python3"
  },
  "language_info": {
   "codemirror_mode": {
    "name": "ipython",
    "version": 3
   },
   "file_extension": ".py",
   "mimetype": "text/x-python",
   "name": "python",
   "nbconvert_exporter": "python",
   "pygments_lexer": "ipython3",
   "version": "3.11.9"
  }
 },
 "nbformat": 4,
 "nbformat_minor": 5
}
