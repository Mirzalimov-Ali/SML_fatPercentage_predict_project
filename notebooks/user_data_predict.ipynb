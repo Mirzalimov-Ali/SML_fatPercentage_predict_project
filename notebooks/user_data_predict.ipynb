{
 "cells": [
  {
   "cell_type": "code",
   "execution_count": 169,
   "id": "37185481",
   "metadata": {},
   "outputs": [],
   "source": [
    "import os\n",
    "\n",
    "os.chdir(r'C:\\SML_Projects\\SML_gym_fatPercentage_predict_project')"
   ]
  },
  {
   "cell_type": "code",
   "execution_count": 170,
   "id": "8d0f56f0",
   "metadata": {},
   "outputs": [],
   "source": [
    "import pandas as pd\n",
    "from joblib import load\n",
    "from src.preprocessing import Preprocessing\n",
    "from src.feature_engineering import FeatureCreation"
   ]
  },
  {
   "cell_type": "markdown",
   "id": "6cfbd3d5",
   "metadata": {},
   "source": [
    "# User data input"
   ]
  },
  {
   "cell_type": "code",
   "execution_count": null,
   "id": "026d3330",
   "metadata": {},
   "outputs": [],
   "source": [
    "age = int(input(\"Enter age: \"))\n",
    "gender = input(\"Enter gender (male/female): \")\n",
    "weight = float(input(\"Enter weight (kg): \"))\n",
    "height = float(input(\"Enter height (cm): \"))\n",
    "max_bpm = int(input(\"Enter max bpm: \"))\n",
    "avg_bpm = int(input(\"Enter avg bpm: \"))\n",
    "resting_bpm = int(input(\"Enter resting bpm: \"))\n",
    "session_duration = float(input(\"Enter session duration (hours): \"))\n",
    "calories_burned = float(input(\"Enter calories burned: \"))\n",
    "workout_type = input(\"Enter workout type: \")\n",
    "water_intake = float(input(\"Enter water intake (L): \"))\n",
    "workout_frequency = int(input(\"Enter workout frequency (per week): \"))\n",
    "experience_level = int(input(\"Enter experience level (1-3): \"))\n",
    "bmi = float(input(\"Enter BMI: \"))\n",
    "age_category = input(\"Enter age category: \")\n",
    "weight_category = input(\"Enter weight category: \")\n",
    "bmi_category = input(\"Enter BMI category: \")"
   ]
  },
  {
   "cell_type": "markdown",
   "id": "b29cb65c",
   "metadata": {},
   "source": [
    "# User data"
   ]
  },
  {
   "cell_type": "code",
   "execution_count": null,
   "id": "a772ef99",
   "metadata": {},
   "outputs": [],
   "source": [
    "user_data = {\n",
    "    \"age\": age, \"gender\": gender, \"weight\": weight, \"height\": height,\n",
    "    \"max_bpm\": max_bpm, \"avg_bpm\": avg_bpm, \"resting_bpm\": resting_bpm,\n",
    "    \"session_duration\": session_duration, \"calories_burned\": calories_burned,\n",
    "    \"workout_type\": workout_type, \"water_intake\": water_intake,\n",
    "    \"workout_frequency\": workout_frequency, \"experience_level\": experience_level,\n",
    "    \"bmi\": bmi, \"age_category\": age_category,\n",
    "    \"weight_category\": weight_category, \"bmi_category\": bmi_category\n",
    "}"
   ]
  },
  {
   "cell_type": "markdown",
   "id": "a2bef7e9",
   "metadata": {},
   "source": [
    "# Preprocessing"
   ]
  },
  {
   "cell_type": "code",
   "execution_count": 174,
   "id": "7ca165e2",
   "metadata": {},
   "outputs": [],
   "source": [
    "df_original = pd.DataFrame([user_data])"
   ]
  },
  {
   "cell_type": "code",
   "execution_count": 175,
   "id": "c576c095",
   "metadata": {},
   "outputs": [],
   "source": [
    "preprocessing = Preprocessing(df_original)\n",
    "df = preprocessing.fillMissingValues().encode().getDataset()"
   ]
  },
  {
   "cell_type": "code",
   "execution_count": 176,
   "id": "47534631",
   "metadata": {},
   "outputs": [
    {
     "name": "stdout",
     "output_type": "stream",
     "text": [
      "<class 'pandas.core.frame.DataFrame'>\n",
      "RangeIndex: 1 entries, 0 to 0\n",
      "Data columns (total 17 columns):\n",
      " #   Column                   Non-Null Count  Dtype  \n",
      "---  ------                   --------------  -----  \n",
      " 0   age                      1 non-null      int64  \n",
      " 1   weight                   1 non-null      int64  \n",
      " 2   height                   1 non-null      int64  \n",
      " 3   max_bpm                  1 non-null      int64  \n",
      " 4   avg_bpm                  1 non-null      int64  \n",
      " 5   resting_bpm              1 non-null      int64  \n",
      " 6   session_duration         1 non-null      float64\n",
      " 7   calories_burned          1 non-null      int64  \n",
      " 8   water_intake             1 non-null      float64\n",
      " 9   workout_frequency        1 non-null      int64  \n",
      " 10  experience_level         1 non-null      int64  \n",
      " 11  bmi                      1 non-null      float64\n",
      " 12  gender_female            1 non-null      int64  \n",
      " 13  workout_type_sedentary   1 non-null      int64  \n",
      " 14  age_category_40-49       1 non-null      int64  \n",
      " 15  weight_category_100-130  1 non-null      int64  \n",
      " 16  bmi_category_obesity     1 non-null      int64  \n",
      "dtypes: float64(3), int64(14)\n",
      "memory usage: 268.0 bytes\n"
     ]
    }
   ],
   "source": [
    "df.info()"
   ]
  },
  {
   "cell_type": "markdown",
   "id": "a1c5213b",
   "metadata": {},
   "source": [
    "# Feature Engineering"
   ]
  },
  {
   "cell_type": "code",
   "execution_count": 177,
   "id": "198cabda",
   "metadata": {},
   "outputs": [],
   "source": [
    "fc = FeatureCreation(df)\n",
    "df = fc.create_features().getDataset()"
   ]
  },
  {
   "cell_type": "code",
   "execution_count": 178,
   "id": "8d76abae",
   "metadata": {},
   "outputs": [
    {
     "name": "stdout",
     "output_type": "stream",
     "text": [
      "<class 'pandas.core.frame.DataFrame'>\n",
      "RangeIndex: 1 entries, 0 to 0\n",
      "Data columns (total 22 columns):\n",
      " #   Column                      Non-Null Count  Dtype  \n",
      "---  ------                      --------------  -----  \n",
      " 0   age                         1 non-null      int64  \n",
      " 1   weight                      1 non-null      int64  \n",
      " 2   height                      1 non-null      int64  \n",
      " 3   max_bpm                     1 non-null      int64  \n",
      " 4   avg_bpm                     1 non-null      int64  \n",
      " 5   resting_bpm                 1 non-null      int64  \n",
      " 6   session_duration            1 non-null      float64\n",
      " 7   calories_burned             1 non-null      int64  \n",
      " 8   water_intake                1 non-null      float64\n",
      " 9   workout_frequency           1 non-null      int64  \n",
      " 10  experience_level            1 non-null      int64  \n",
      " 11  bmi                         1 non-null      float64\n",
      " 12  gender_female               1 non-null      int64  \n",
      " 13  workout_type_sedentary      1 non-null      int64  \n",
      " 14  age_category_40-49          1 non-null      int64  \n",
      " 15  weight_category_100-130     1 non-null      int64  \n",
      " 16  bmi_category_obesity        1 non-null      int64  \n",
      " 17  hrr                         1 non-null      int64  \n",
      " 18  intensity                   1 non-null      float64\n",
      " 19  calories_per_min            1 non-null      float64\n",
      " 20  water_per_session           1 non-null      float64\n",
      " 21  experience_intensity_ratio  1 non-null      float64\n",
      "dtypes: float64(7), int64(15)\n",
      "memory usage: 308.0 bytes\n"
     ]
    }
   ],
   "source": [
    "df.info()"
   ]
  },
  {
   "cell_type": "code",
   "execution_count": 179,
   "id": "0476ea8e",
   "metadata": {},
   "outputs": [],
   "source": [
    "model = load(r'model/AdaBoostRegressor.joblib')\n",
    "model_features = model.feature_names_in_"
   ]
  },
  {
   "cell_type": "code",
   "execution_count": 180,
   "id": "0f7eee77",
   "metadata": {},
   "outputs": [],
   "source": [
    "df_model = df.copy()\n",
    "\n",
    "for col in model_features:\n",
    "    if col not in df_model.columns:\n",
    "        df_model[col] = 0\n",
    "\n",
    "df_model = df_model[model_features]"
   ]
  },
  {
   "cell_type": "code",
   "execution_count": 181,
   "id": "cd2e0449",
   "metadata": {},
   "outputs": [],
   "source": [
    "y_pred = model.predict(df_model)"
   ]
  },
  {
   "cell_type": "code",
   "execution_count": 182,
   "id": "3fe80a58",
   "metadata": {},
   "outputs": [
    {
     "name": "stdout",
     "output_type": "stream",
     "text": [
      "Predicted fat percentage: 25.45%\n"
     ]
    }
   ],
   "source": [
    "print(f\"Predicted fat percentage: {y_pred[0]:.2f}%\")"
   ]
  },
  {
   "cell_type": "code",
   "execution_count": null,
   "id": "3dcd35aa",
   "metadata": {},
   "outputs": [],
   "source": []
  }
 ],
 "metadata": {
  "kernelspec": {
   "display_name": "Python 3",
   "language": "python",
   "name": "python3"
  },
  "language_info": {
   "codemirror_mode": {
    "name": "ipython",
    "version": 3
   },
   "file_extension": ".py",
   "mimetype": "text/x-python",
   "name": "python",
   "nbconvert_exporter": "python",
   "pygments_lexer": "ipython3",
   "version": "3.11.9"
  }
 },
 "nbformat": 4,
 "nbformat_minor": 5
}
