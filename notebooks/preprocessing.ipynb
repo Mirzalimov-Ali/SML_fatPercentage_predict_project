{
 "cells": [
  {
   "cell_type": "code",
   "execution_count": null,
   "id": "c72177ce",
   "metadata": {},
   "outputs": [],
   "source": [
    "import os"
   ]
  },
  {
   "cell_type": "code",
   "execution_count": 2,
   "id": "6919ea13",
   "metadata": {},
   "outputs": [],
   "source": [
    "os.chdir(r\"C:\\SML_Projects\\SML_gym_fatPercentage_predict_project\")"
   ]
  },
  {
   "cell_type": "code",
   "execution_count": 3,
   "id": "01e14eb6",
   "metadata": {},
   "outputs": [
    {
     "name": "stdout",
     "output_type": "stream",
     "text": [
      "C:\\SML_Projects\\SML_gym_fatPercentage_predict_project\n"
     ]
    }
   ],
   "source": [
    "print(os.getcwd())"
   ]
  },
  {
   "cell_type": "code",
   "execution_count": 147,
   "id": "a4568c71",
   "metadata": {},
   "outputs": [],
   "source": [
    "import pandas as pd"
   ]
  },
  {
   "cell_type": "code",
   "execution_count": 148,
   "id": "303d6b79",
   "metadata": {},
   "outputs": [],
   "source": [
    "from src.preprocessing import Preprocessing\n",
    "from src.logger import get_logger"
   ]
  },
  {
   "cell_type": "code",
   "execution_count": 149,
   "id": "a7864966",
   "metadata": {},
   "outputs": [],
   "source": [
    "logger = get_logger('notebook_preprocessing', 'preprocessing.log')"
   ]
  },
  {
   "cell_type": "code",
   "execution_count": null,
   "id": "6bc90641",
   "metadata": {},
   "outputs": [],
   "source": [
    "try:\n",
    "    df = pd.read_csv('data/raw/gym_dataset.csv')\n",
    "    logger.info(f'dataset imported successfully with shape: {df.shape}')\n",
    "except Exception as e:\n",
    "    logger.error(f'error during import dataset: {e}')\n",
    "    print(f'error: {e}')"
   ]
  },
  {
   "cell_type": "code",
   "execution_count": null,
   "id": "f7280eca",
   "metadata": {},
   "outputs": [
    {
     "name": "stdout",
     "output_type": "stream",
     "text": [
      "<class 'pandas.core.frame.DataFrame'>\n",
      "RangeIndex: 973 entries, 0 to 972\n",
      "Data columns (total 18 columns):\n",
      " #   Column             Non-Null Count  Dtype  \n",
      "---  ------             --------------  -----  \n",
      " 0   age                973 non-null    int64  \n",
      " 1   gender             973 non-null    object \n",
      " 2   weight             973 non-null    float64\n",
      " 3   height             973 non-null    float64\n",
      " 4   max_bpm            973 non-null    int64  \n",
      " 5   avg_bpm            973 non-null    int64  \n",
      " 6   resting_bpm        973 non-null    int64  \n",
      " 7   session_duration   973 non-null    float64\n",
      " 8   calories_burned    973 non-null    float64\n",
      " 9   workout_type       973 non-null    object \n",
      " 10  fat_percentage     973 non-null    float64\n",
      " 11  water_intake       973 non-null    float64\n",
      " 12  workout_frequency  973 non-null    int64  \n",
      " 13  experience_level   973 non-null    int64  \n",
      " 14  bmi                973 non-null    float64\n",
      " 15  age_category       973 non-null    object \n",
      " 16  weight_category    973 non-null    object \n",
      " 17  bmi_category       973 non-null    object \n",
      "dtypes: float64(7), int64(6), object(5)\n",
      "memory usage: 137.0+ KB\n"
     ]
    }
   ],
   "source": [
    "try:\n",
    "    df.info()\n",
    "except Exception as e:\n",
    "    logger.error(f'error during dataset validation : {e}')\n",
    "    print(f'error: {e}')"
   ]
  },
  {
   "cell_type": "code",
   "execution_count": 154,
   "id": "805b25a1",
   "metadata": {},
   "outputs": [
    {
     "name": "stdout",
     "output_type": "stream",
     "text": [
      "<class 'pandas.core.frame.DataFrame'>\n",
      "RangeIndex: 973 entries, 0 to 972\n",
      "Data columns (total 32 columns):\n",
      " #   Column                      Non-Null Count  Dtype  \n",
      "---  ------                      --------------  -----  \n",
      " 0   age                         973 non-null    int64  \n",
      " 1   weight                      973 non-null    float64\n",
      " 2   height                      973 non-null    float64\n",
      " 3   max_bpm                     973 non-null    int64  \n",
      " 4   avg_bpm                     973 non-null    int64  \n",
      " 5   resting_bpm                 973 non-null    int64  \n",
      " 6   session_duration            973 non-null    float64\n",
      " 7   calories_burned             973 non-null    float64\n",
      " 8   fat_percentage              973 non-null    float64\n",
      " 9   water_intake                973 non-null    float64\n",
      " 10  workout_frequency           973 non-null    int64  \n",
      " 11  experience_level            973 non-null    int64  \n",
      " 12  bmi                         973 non-null    float64\n",
      " 13  gender_Female               973 non-null    int64  \n",
      " 14  gender_Male                 973 non-null    int64  \n",
      " 15  workout_type_Cardio         973 non-null    int64  \n",
      " 16  workout_type_HIIT           973 non-null    int64  \n",
      " 17  workout_type_Strength       973 non-null    int64  \n",
      " 18  workout_type_Yoga           973 non-null    int64  \n",
      " 19  age_category_0-29           973 non-null    int64  \n",
      " 20  age_category_30-39          973 non-null    int64  \n",
      " 21  age_category_40-49          973 non-null    int64  \n",
      " 22  age_category_50-100         973 non-null    int64  \n",
      " 23  weight_category_100-130     973 non-null    int64  \n",
      " 24  weight_category_40-59       973 non-null    int64  \n",
      " 25  weight_category_60-79       973 non-null    int64  \n",
      " 26  weight_category_80-99       973 non-null    int64  \n",
      " 27  bmi_category_healthy        973 non-null    int64  \n",
      " 28  bmi_category_obesity        973 non-null    int64  \n",
      " 29  bmi_category_overweight     973 non-null    int64  \n",
      " 30  bmi_category_sever obesity  973 non-null    int64  \n",
      " 31  bmi_category_under weight   973 non-null    int64  \n",
      "dtypes: float64(7), int64(25)\n",
      "memory usage: 243.4 KB\n"
     ]
    }
   ],
   "source": [
    "try:\n",
    "    preprocessing = Preprocessing(df)\n",
    "    df = preprocessing.fillMissingValues().encode().getDataset()\n",
    "\n",
    "    logger.info(f'dataset successfully preprocessed')\n",
    "    logger.info(f'missing values: \\n{df.isnull().sum()}')\n",
    "\n",
    "    object_cols = df.select_dtypes(include='object').columns.tolist()\n",
    "    logger.info(f'object type columns: {len(object_cols)}')\n",
    "\n",
    "    df.info()\n",
    "except Exception as e:\n",
    "    logger.error(f'error during preprocessing: {e}')\n",
    "    print(f'error: {e}')"
   ]
  }
 ],
 "metadata": {
  "kernelspec": {
   "display_name": "Python 3",
   "language": "python",
   "name": "python3"
  },
  "language_info": {
   "codemirror_mode": {
    "name": "ipython",
    "version": 3
   },
   "file_extension": ".py",
   "mimetype": "text/x-python",
   "name": "python",
   "nbconvert_exporter": "python",
   "pygments_lexer": "ipython3",
   "version": "3.11.9"
  }
 },
 "nbformat": 4,
 "nbformat_minor": 5
}
