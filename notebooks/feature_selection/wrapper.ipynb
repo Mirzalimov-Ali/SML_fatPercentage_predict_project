{
 "cells": [
  {
   "cell_type": "code",
   "execution_count": 1,
   "id": "e2db82aa",
   "metadata": {},
   "outputs": [],
   "source": [
    "import pandas as pd\n",
    "from rich.console import Console\n",
    "from rich.table import Table"
   ]
  },
  {
   "cell_type": "code",
   "execution_count": 2,
   "id": "0cf52120",
   "metadata": {},
   "outputs": [],
   "source": [
    "df = pd.read_csv('../../data/final/final_gym_dataset.csv')"
   ]
  },
  {
   "cell_type": "code",
   "execution_count": 3,
   "id": "d1a1ade5",
   "metadata": {},
   "outputs": [
    {
     "name": "stdout",
     "output_type": "stream",
     "text": [
      "<class 'pandas.core.frame.DataFrame'>\n",
      "RangeIndex: 973 entries, 0 to 972\n",
      "Data columns (total 37 columns):\n",
      " #   Column                      Non-Null Count  Dtype  \n",
      "---  ------                      --------------  -----  \n",
      " 0   age                         973 non-null    float64\n",
      " 1   weight                      973 non-null    float64\n",
      " 2   height                      973 non-null    float64\n",
      " 3   max_bpm                     973 non-null    float64\n",
      " 4   avg_bpm                     973 non-null    float64\n",
      " 5   resting_bpm                 973 non-null    float64\n",
      " 6   session_duration            973 non-null    float64\n",
      " 7   calories_burned             973 non-null    float64\n",
      " 8   fat_percentage              973 non-null    float64\n",
      " 9   water_intake                973 non-null    float64\n",
      " 10  workout_frequency           973 non-null    float64\n",
      " 11  experience_level            973 non-null    float64\n",
      " 12  bmi                         973 non-null    float64\n",
      " 13  gender_Female               973 non-null    float64\n",
      " 14  gender_Male                 973 non-null    float64\n",
      " 15  workout_type_Cardio         973 non-null    float64\n",
      " 16  workout_type_HIIT           973 non-null    float64\n",
      " 17  workout_type_Strength       973 non-null    float64\n",
      " 18  workout_type_Yoga           973 non-null    float64\n",
      " 19  age_category_0-29           973 non-null    float64\n",
      " 20  age_category_30-39          973 non-null    float64\n",
      " 21  age_category_40-49          973 non-null    float64\n",
      " 22  age_category_50-100         973 non-null    float64\n",
      " 23  weight_category_100-130     973 non-null    float64\n",
      " 24  weight_category_40-59       973 non-null    float64\n",
      " 25  weight_category_60-79       973 non-null    float64\n",
      " 26  weight_category_80-99       973 non-null    float64\n",
      " 27  bmi_category_healthy        973 non-null    float64\n",
      " 28  bmi_category_obesity        973 non-null    float64\n",
      " 29  bmi_category_overweight     973 non-null    float64\n",
      " 30  bmi_category_sever obesity  973 non-null    float64\n",
      " 31  bmi_category_under weight   973 non-null    float64\n",
      " 32  hrr                         973 non-null    float64\n",
      " 33  intensity                   973 non-null    float64\n",
      " 34  calories_per_min            973 non-null    float64\n",
      " 35  water_per_session           973 non-null    float64\n",
      " 36  experience_intensity_ratio  973 non-null    float64\n",
      "dtypes: float64(37)\n",
      "memory usage: 281.4 KB\n"
     ]
    }
   ],
   "source": [
    "df.info()"
   ]
  },
  {
   "cell_type": "code",
   "execution_count": 4,
   "id": "38961054",
   "metadata": {},
   "outputs": [],
   "source": [
    "from sklearn.linear_model import LinearRegression, Lasso, Ridge, ElasticNet\n",
    "from sklearn.tree import DecisionTreeRegressor\n",
    "from sklearn.ensemble   import RandomForestRegressor, GradientBoostingRegressor, ExtraTreesRegressor, HistGradientBoostingRegressor, AdaBoostRegressor\n",
    "from sklearn.svm import SVR\n",
    "from sklearn.neighbors import KNeighborsRegressor\n",
    "import xgboost"
   ]
  },
  {
   "cell_type": "code",
   "execution_count": 5,
   "id": "0f5e3914",
   "metadata": {},
   "outputs": [],
   "source": [
    "from sklearn.model_selection import train_test_split\n",
    "\n",
    "x = df.drop('fat_percentage', axis=1)\n",
    "y = df['fat_percentage']\n",
    "\n",
    "x_train, x_test, y_train, y_test = train_test_split(x, y, test_size=0.2, random_state=42)"
   ]
  },
  {
   "cell_type": "code",
   "execution_count": 6,
   "id": "dcc8f89d",
   "metadata": {},
   "outputs": [],
   "source": [
    "from sklearn.metrics import r2_score, mean_absolute_error"
   ]
  },
  {
   "cell_type": "code",
   "execution_count": 7,
   "id": "56c4d20e",
   "metadata": {},
   "outputs": [],
   "source": [
    "from sklearn.model_selection import KFold, cross_val_score\n",
    "\n",
    "kf = KFold(n_splits=5, shuffle=True, random_state=42)"
   ]
  },
  {
   "cell_type": "code",
   "execution_count": 8,
   "id": "4e357a3c",
   "metadata": {},
   "outputs": [],
   "source": [
    "from sklearn.feature_selection import RFE"
   ]
  },
  {
   "cell_type": "markdown",
   "id": "e9c6161b",
   "metadata": {},
   "source": [
    "# LinearRegression"
   ]
  },
  {
   "cell_type": "code",
   "execution_count": 9,
   "id": "d4e8f39a",
   "metadata": {},
   "outputs": [
    {
     "name": "stdout",
     "output_type": "stream",
     "text": [
      "linear regression score: 0.6275249670876648\n",
      "linear regression mae: 3.2079282151822657\n",
      "--------------------------------------\n",
      "K-Fold mean: 0.6372488038142172\n",
      "K-Fold std: 0.02730403248308836\n",
      "Selected features: ['weight', 'height', 'calories_burned', 'workout_frequency', 'experience_level', 'bmi', 'gender_Female', 'gender_Male', 'weight_category_80-99', 'water_per_session']\n"
     ]
    }
   ],
   "source": [
    "lr = LinearRegression()\n",
    "\n",
    "rfe = RFE(lr, n_features_to_select=10)\n",
    "rfe.fit(x_train, y_train)\n",
    "selected_features = x_train.columns[rfe.support_]\n",
    "\n",
    "lr.fit(x_train[selected_features], y_train)\n",
    "y_pred = lr.predict(x_test[selected_features])\n",
    "\n",
    "lr_score = r2_score(y_test, y_pred)\n",
    "lr_mae = mean_absolute_error(y_test, y_pred)\n",
    "lr_scores = cross_val_score(lr, x[selected_features], y, cv=kf, scoring='r2')\n",
    "\n",
    "print(f'linear regression score: {lr_score}')\n",
    "print(f'linear regression mae: {lr_mae}')\n",
    "print('--------------------------------------')\n",
    "print(\"K-Fold mean:\", lr_scores.mean())\n",
    "print(\"K-Fold std:\", lr_scores.std())\n",
    "print(\"Selected features:\", list(selected_features))"
   ]
  },
  {
   "cell_type": "markdown",
   "id": "68f66df1",
   "metadata": {},
   "source": [
    "# Lasso"
   ]
  },
  {
   "cell_type": "code",
   "execution_count": 10,
   "id": "7d40ceb6",
   "metadata": {},
   "outputs": [
    {
     "name": "stdout",
     "output_type": "stream",
     "text": [
      "Lasso regression score: 0.6314897510585967\n",
      "Lasso regression mae: 3.2086478931536897\n",
      "--------------------------------------\n",
      "K-Fold mean: 0.6404757160556291\n",
      "K-Fold std: 0.026507303402411777\n",
      "Selected features: ['session_duration', 'calories_burned', 'water_intake', 'workout_frequency', 'experience_level', 'gender_Female', 'workout_type_HIIT', 'weight_category_80-99', 'bmi_category_healthy', 'water_per_session']\n"
     ]
    }
   ],
   "source": [
    "lasso = Lasso(alpha=0.01)\n",
    "\n",
    "rfe = RFE(lasso, n_features_to_select=10)\n",
    "rfe.fit(x_train, y_train)\n",
    "selected_features = x_train.columns[rfe.support_]\n",
    "\n",
    "lasso.fit(x_train[selected_features], y_train)\n",
    "y_pred = lasso.predict(x_test[selected_features])\n",
    "\n",
    "lasso_score = r2_score(y_test, y_pred)\n",
    "lasso_mae = mean_absolute_error(y_test, y_pred)\n",
    "lasso_scores = cross_val_score(lasso, x[selected_features], y, cv=kf, scoring='r2')\n",
    "\n",
    "print(f'Lasso regression score: {lasso_score}')\n",
    "print(f'Lasso regression mae: {lasso_mae}')\n",
    "print('--------------------------------------')\n",
    "print(\"K-Fold mean:\", lasso_scores.mean())\n",
    "print(\"K-Fold std:\", lasso_scores.std())\n",
    "print(\"Selected features:\", list(selected_features))"
   ]
  },
  {
   "cell_type": "markdown",
   "id": "d62c7e76",
   "metadata": {},
   "source": [
    "# Ridge"
   ]
  },
  {
   "cell_type": "code",
   "execution_count": 11,
   "id": "0581f0d2",
   "metadata": {},
   "outputs": [
    {
     "name": "stdout",
     "output_type": "stream",
     "text": [
      "Lasso regression score: 0.6324716915011614\n",
      "Lasso regression mae: 3.1738700759248193\n",
      "--------------------------------------\n",
      "K-Fold mean: 0.6398605395722701\n",
      "K-Fold std: 0.026723476006248196\n",
      "Selected features: ['height', 'session_duration', 'calories_burned', 'workout_frequency', 'experience_level', 'bmi', 'gender_Female', 'gender_Male', 'weight_category_80-99', 'water_per_session']\n"
     ]
    }
   ],
   "source": [
    "ridge = Ridge(alpha=0.1) \n",
    "\n",
    "rfe = RFE(ridge, n_features_to_select=10)\n",
    "rfe.fit(x_train, y_train)\n",
    "selected_features = x_train.columns[rfe.support_]\n",
    "\n",
    "ridge.fit(x_train[selected_features], y_train)\n",
    "y_pred = ridge.predict(x_test[selected_features])\n",
    "\n",
    "ridge_score = r2_score(y_test, y_pred)\n",
    "ridge_mae = mean_absolute_error(y_test, y_pred)\n",
    "ridge_scores = cross_val_score(ridge, x[selected_features], y, cv=kf, scoring='r2')\n",
    "\n",
    "print(f'Lasso regression score: {ridge_score}')\n",
    "print(f'Lasso regression mae: {ridge_mae}')\n",
    "print('--------------------------------------')\n",
    "print(\"K-Fold mean:\", ridge_scores.mean())\n",
    "print(\"K-Fold std:\", ridge_scores.std())\n",
    "print(\"Selected features:\", list(selected_features))"
   ]
  },
  {
   "cell_type": "markdown",
   "id": "f0047b24",
   "metadata": {},
   "source": [
    "# ElasticNet"
   ]
  },
  {
   "cell_type": "code",
   "execution_count": 12,
   "id": "4171b93f",
   "metadata": {},
   "outputs": [
    {
     "name": "stdout",
     "output_type": "stream",
     "text": [
      "Lasso regression score: 0.6324979820626819\n",
      "Lasso regression mae: 3.1933623053396576\n",
      "--------------------------------------\n",
      "K-Fold mean: 0.6409656346580926\n",
      "K-Fold std: 0.028002239206908277\n",
      "Selected features: ['height', 'session_duration', 'calories_burned', 'workout_frequency', 'experience_level', 'gender_Female', 'weight_category_80-99', 'bmi_category_healthy', 'bmi_category_under weight', 'water_per_session']\n"
     ]
    }
   ],
   "source": [
    "en = ElasticNet(alpha=0.001, l1_ratio=0.9) # lasso ga yaqin \n",
    "\n",
    "rfe = RFE(en, n_features_to_select=10)\n",
    "rfe.fit(x_train, y_train)\n",
    "selected_features = x_train.columns[rfe.support_]\n",
    "\n",
    "en.fit(x_train[selected_features], y_train)\n",
    "y_pred = en.predict(x_test[selected_features])\n",
    "\n",
    "en_score = r2_score(y_test, y_pred)\n",
    "en_mae = mean_absolute_error(y_test, y_pred)\n",
    "en_scores = cross_val_score(en, x[selected_features], y, cv=kf, scoring='r2')\n",
    "\n",
    "print(f'Lasso regression score: {en_score}')\n",
    "print(f'Lasso regression mae: {en_mae}')\n",
    "print('--------------------------------------')\n",
    "print(\"K-Fold mean:\", en_scores.mean())\n",
    "print(\"K-Fold std:\", en_scores.std())\n",
    "print(\"Selected features:\", list(selected_features))"
   ]
  },
  {
   "cell_type": "markdown",
   "id": "e0131ac4",
   "metadata": {},
   "source": [
    "# Decision Tree"
   ]
  },
  {
   "cell_type": "code",
   "execution_count": 13,
   "id": "10d00a58",
   "metadata": {},
   "outputs": [
    {
     "name": "stdout",
     "output_type": "stream",
     "text": [
      "Lasso regression score: 0.6022950156820823\n",
      "Lasso regression mae: 3.186153846153846\n",
      "--------------------------------------\n",
      "K-Fold mean: 0.6003441388091189\n",
      "K-Fold std: 0.061848992057947756\n",
      "Selected features: ['weight', 'max_bpm', 'session_duration', 'calories_burned', 'bmi', 'gender_Male', 'hrr', 'calories_per_min', 'water_per_session', 'experience_intensity_ratio']\n"
     ]
    }
   ],
   "source": [
    "dt = DecisionTreeRegressor(random_state=42)\n",
    "\n",
    "rfe = RFE(dt, n_features_to_select=10)\n",
    "rfe.fit(x_train, y_train)\n",
    "selected_features = x_train.columns[rfe.support_]\n",
    "\n",
    "dt.fit(x_train[selected_features], y_train)\n",
    "y_pred = dt.predict(x_test[selected_features])\n",
    "\n",
    "dt_score = r2_score(y_test, y_pred)\n",
    "dt_mae = mean_absolute_error(y_test, y_pred)\n",
    "dt_scores = cross_val_score(dt, x[selected_features], y, cv=kf, scoring='r2')\n",
    "\n",
    "print(f'Lasso regression score: {dt_score}')\n",
    "print(f'Lasso regression mae: {dt_mae}')\n",
    "print('--------------------------------------')\n",
    "print(\"K-Fold mean:\", dt_scores.mean())\n",
    "print(\"K-Fold std:\", dt_scores.std())\n",
    "print(\"Selected features:\", list(selected_features))"
   ]
  },
  {
   "cell_type": "markdown",
   "id": "bab678d7",
   "metadata": {},
   "source": [
    "# RandomForest"
   ]
  },
  {
   "cell_type": "code",
   "execution_count": 14,
   "id": "f3fcc487",
   "metadata": {},
   "outputs": [
    {
     "name": "stdout",
     "output_type": "stream",
     "text": [
      "Lasso regression score: 0.7928899893934587\n",
      "Lasso regression mae: 2.421979487179488\n",
      "--------------------------------------\n",
      "K-Fold mean: 0.7916308275425007\n",
      "K-Fold std: 0.023949327648549665\n",
      "Selected features: ['weight', 'session_duration', 'experience_level', 'bmi', 'gender_Female', 'gender_Male', 'hrr', 'calories_per_min', 'water_per_session', 'experience_intensity_ratio']\n"
     ]
    }
   ],
   "source": [
    "rf = RandomForestRegressor(random_state=42)\n",
    "\n",
    "rfe = RFE(rf, n_features_to_select=10)\n",
    "rfe.fit(x_train, y_train)\n",
    "selected_features = x_train.columns[rfe.support_]\n",
    "\n",
    "rf.fit(x_train[selected_features], y_train)\n",
    "y_pred = rf.predict(x_test[selected_features])\n",
    "\n",
    "rf_score = r2_score(y_test, y_pred)\n",
    "rf_mae = mean_absolute_error(y_test, y_pred)\n",
    "rf_scores = cross_val_score(rf, x[selected_features], y, cv=kf, scoring='r2')\n",
    "\n",
    "print(f'Lasso regression score: {rf_score}')\n",
    "print(f'Lasso regression mae: {rf_mae}')\n",
    "print('--------------------------------------')\n",
    "print(\"K-Fold mean:\", rf_scores.mean())\n",
    "print(\"K-Fold std:\", rf_scores.std())\n",
    "print(\"Selected features:\", list(selected_features))"
   ]
  },
  {
   "cell_type": "markdown",
   "id": "17a66032",
   "metadata": {},
   "source": [
    "# Gradient Boosting"
   ]
  },
  {
   "cell_type": "code",
   "execution_count": 15,
   "id": "4f333f81",
   "metadata": {},
   "outputs": [
    {
     "name": "stdout",
     "output_type": "stream",
     "text": [
      "Lasso regression score: 0.7666686412078064\n",
      "Lasso regression mae: 2.5213314128421196\n",
      "--------------------------------------\n",
      "K-Fold mean: 0.7598423598894464\n",
      "K-Fold std: 0.029710731001005842\n",
      "Selected features: ['weight', 'session_duration', 'experience_level', 'bmi', 'gender_Female', 'gender_Male', 'hrr', 'calories_per_min', 'water_per_session', 'experience_intensity_ratio']\n"
     ]
    }
   ],
   "source": [
    "gb = GradientBoostingRegressor(n_estimators=220, max_depth=5, random_state=42) \n",
    "\n",
    "rfe = RFE(gb, n_features_to_select=10)\n",
    "rfe.fit(x_train, y_train)\n",
    "selected_features = x_train.columns[rfe.support_]\n",
    "\n",
    "gb.fit(x_train[selected_features], y_train)\n",
    "y_pred = gb.predict(x_test[selected_features])\n",
    "\n",
    "gb_score = r2_score(y_test, y_pred)\n",
    "gb_mae = mean_absolute_error(y_test, y_pred)\n",
    "gb_scores = cross_val_score(gb, x[selected_features], y, cv=kf, scoring='r2')\n",
    "\n",
    "print(f'Lasso regression score: {gb_score}')\n",
    "print(f'Lasso regression mae: {gb_mae}')\n",
    "print('--------------------------------------')\n",
    "print(\"K-Fold mean:\", gb_scores.mean())\n",
    "print(\"K-Fold std:\", gb_scores.std())\n",
    "print(\"Selected features:\", list(selected_features))"
   ]
  },
  {
   "cell_type": "markdown",
   "id": "86f47e6c",
   "metadata": {},
   "source": [
    "# Extra Tree"
   ]
  },
  {
   "cell_type": "code",
   "execution_count": 16,
   "id": "513bd7be",
   "metadata": {},
   "outputs": [
    {
     "name": "stdout",
     "output_type": "stream",
     "text": [
      "Lasso regression score: 0.7724340946950213\n",
      "Lasso regression mae: 2.4945487179487182\n",
      "--------------------------------------\n",
      "K-Fold mean: 0.7822406349571885\n",
      "K-Fold std: 0.026291304746741385\n",
      "Selected features: ['session_duration', 'calories_burned', 'water_intake', 'workout_frequency', 'experience_level', 'bmi', 'gender_Female', 'gender_Male', 'weight_category_80-99', 'hrr']\n"
     ]
    }
   ],
   "source": [
    "et = ExtraTreesRegressor(random_state=42)\n",
    "\n",
    "rfe = RFE(et, n_features_to_select=10)\n",
    "rfe.fit(x_train, y_train)\n",
    "selected_features = x_train.columns[rfe.support_]\n",
    "\n",
    "et.fit(x_train[selected_features], y_train)\n",
    "y_pred = et.predict(x_test[selected_features])\n",
    "\n",
    "et_score = r2_score(y_test, y_pred)\n",
    "et_mae = mean_absolute_error(y_test, y_pred)\n",
    "et_scores = cross_val_score(et, x[selected_features], y, cv=kf, scoring='r2')\n",
    "\n",
    "print(f'Lasso regression score: {et_score}')\n",
    "print(f'Lasso regression mae: {et_mae}')\n",
    "print('--------------------------------------')\n",
    "print(\"K-Fold mean:\", et_scores.mean())\n",
    "print(\"K-Fold std:\", et_scores.std())\n",
    "print(\"Selected features:\", list(selected_features))"
   ]
  },
  {
   "cell_type": "markdown",
   "id": "9eacfa26",
   "metadata": {},
   "source": [
    "# Hist Gradient Boosting"
   ]
  },
  {
   "cell_type": "code",
   "execution_count": 17,
   "id": "a76aa19e",
   "metadata": {},
   "outputs": [
    {
     "name": "stdout",
     "output_type": "stream",
     "text": [
      "Hist Gradient Boosting score: 0.7699555866013328\n",
      "Hist Gradient Boosting mae: 2.4959274524524804\n",
      "--------------------------------------\n",
      "K-Fold mean: 0.7644410448533296\n",
      "K-Fold std: 0.027751653690838006\n"
     ]
    }
   ],
   "source": [
    "hgb = HistGradientBoostingRegressor(max_iter=200, random_state=42) \n",
    "\n",
    "hgb.fit(x_train, y_train)\n",
    "y_pred = hgb.predict(x_test)\n",
    "\n",
    "hgb_score = r2_score(y_test, y_pred)\n",
    "hgb_mae = mean_absolute_error(y_test, y_pred)\n",
    "hgb_scores = cross_val_score(hgb, x, y, cv=kf, scoring='r2')\n",
    "\n",
    "print(f'Hist Gradient Boosting score: {hgb_score}')\n",
    "print(f'Hist Gradient Boosting mae: {hgb_mae}')\n",
    "print('--------------------------------------')\n",
    "print(\"K-Fold mean:\", hgb_scores.mean())\n",
    "print(\"K-Fold std:\", hgb_scores.std())"
   ]
  },
  {
   "cell_type": "markdown",
   "id": "53c48ed6",
   "metadata": {},
   "source": [
    "# SVM"
   ]
  },
  {
   "cell_type": "code",
   "execution_count": 18,
   "id": "22cbfd34",
   "metadata": {},
   "outputs": [
    {
     "name": "stdout",
     "output_type": "stream",
     "text": [
      "CVM score: 0.7242136105752499\n",
      "CVM mae: 2.823779862134825\n",
      "--------------------------------------\n",
      "K-Fold mean: 0.7125039687130973\n",
      "K-Fold std: 0.03185028154284607\n"
     ]
    }
   ],
   "source": [
    "svm = SVR(kernel='rbf', C=10.0)\n",
    "\n",
    "svm.fit(x_train, y_train)\n",
    "y_pred = svm.predict(x_test)\n",
    "\n",
    "svm_score = r2_score(y_test, y_pred)\n",
    "svm_mae = mean_absolute_error(y_test, y_pred)\n",
    "svm_scores = cross_val_score(svm, x, y, cv=kf, scoring='r2')\n",
    "\n",
    "print(f'CVM score: {svm_score}')\n",
    "print(f'CVM mae: {svm_mae}')\n",
    "print('--------------------------------------')\n",
    "print(\"K-Fold mean:\", svm_scores.mean())\n",
    "print(\"K-Fold std:\", svm_scores.std())"
   ]
  },
  {
   "cell_type": "markdown",
   "id": "5869cc4b",
   "metadata": {},
   "source": [
    "# KNN"
   ]
  },
  {
   "cell_type": "code",
   "execution_count": 19,
   "id": "8c6cbb63",
   "metadata": {},
   "outputs": [
    {
     "name": "stdout",
     "output_type": "stream",
     "text": [
      "KNN score: 0.6343339035595035\n",
      "KNN mae: 3.1556410256410263\n",
      "--------------------------------------\n",
      "K-Fold mean: 0.6227322833819866\n",
      "K-Fold std: 0.05286810308338416\n"
     ]
    }
   ],
   "source": [
    "knn = KNeighborsRegressor(n_neighbors=10)\n",
    "\n",
    "knn.fit(x_train, y_train)\n",
    "y_pred = knn.predict(x_test)\n",
    "\n",
    "knn_score = r2_score(y_test, y_pred)\n",
    "knn_mae = mean_absolute_error(y_test, y_pred)\n",
    "knn_scores = cross_val_score(knn, x, y, cv=kf, scoring='r2')\n",
    "\n",
    "print(f'KNN score: {knn_score}')\n",
    "print(f'KNN mae: {knn_mae}')\n",
    "print('--------------------------------------')\n",
    "print(\"K-Fold mean:\", knn_scores.mean())\n",
    "print(\"K-Fold std:\", knn_scores.std())"
   ]
  },
  {
   "cell_type": "markdown",
   "id": "6afcd9b9",
   "metadata": {},
   "source": [
    "# Adaboost"
   ]
  },
  {
   "cell_type": "code",
   "execution_count": 20,
   "id": "6df77792",
   "metadata": {},
   "outputs": [
    {
     "name": "stdout",
     "output_type": "stream",
     "text": [
      "Lasso regression score: 0.8082640437247374\n",
      "Lasso regression mae: 2.3960266140716646\n",
      "--------------------------------------\n",
      "K-Fold mean: 0.807596154199975\n",
      "K-Fold std: 0.023816357389747782\n",
      "Selected features: ['weight', 'session_duration', 'experience_level', 'bmi', 'gender_Female', 'gender_Male', 'hrr', 'intensity', 'water_per_session', 'experience_intensity_ratio']\n"
     ]
    }
   ],
   "source": [
    "ab = AdaBoostRegressor(n_estimators=200)\n",
    "\n",
    "rfe = RFE(ab, n_features_to_select=10)\n",
    "rfe.fit(x_train, y_train)\n",
    "selected_features = x_train.columns[rfe.support_]\n",
    "\n",
    "ab.fit(x_train[selected_features], y_train)\n",
    "y_pred = ab.predict(x_test[selected_features])\n",
    "\n",
    "ab_score = r2_score(y_test, y_pred)\n",
    "ab_mae = mean_absolute_error(y_test, y_pred)\n",
    "ab_scores = cross_val_score(ab, x[selected_features], y, cv=kf, scoring='r2')\n",
    "\n",
    "print(f'Lasso regression score: {ab_score}')\n",
    "print(f'Lasso regression mae: {ab_mae}')\n",
    "print('--------------------------------------')\n",
    "print(\"K-Fold mean:\", ab_scores.mean())\n",
    "print(\"K-Fold std:\", ab_scores.std())\n",
    "print(\"Selected features:\", list(selected_features))"
   ]
  },
  {
   "cell_type": "markdown",
   "id": "f9444913",
   "metadata": {},
   "source": [
    "# XGBoost"
   ]
  },
  {
   "cell_type": "code",
   "execution_count": 21,
   "id": "52f783fd",
   "metadata": {},
   "outputs": [
    {
     "name": "stdout",
     "output_type": "stream",
     "text": [
      "Lasso regression score: 0.7400914579526354\n",
      "Lasso regression mae: 2.6256833149836614\n",
      "--------------------------------------\n",
      "K-Fold mean: 0.7532311080531113\n",
      "K-Fold std: 0.026181211561093574\n",
      "Selected features: ['weight', 'session_duration', 'water_intake', 'bmi', 'gender_Female', 'bmi_category_healthy', 'hrr', 'calories_per_min', 'water_per_session', 'experience_intensity_ratio']\n"
     ]
    }
   ],
   "source": [
    "xgb = xgboost.XGBRegressor()\n",
    "\n",
    "rfe = RFE(xgb, n_features_to_select=10)\n",
    "rfe.fit(x_train, y_train)\n",
    "selected_features = x_train.columns[rfe.support_]\n",
    "\n",
    "xgb.fit(x_train[selected_features], y_train)\n",
    "y_pred = xgb.predict(x_test[selected_features])\n",
    "\n",
    "xgb_score = r2_score(y_test, y_pred)\n",
    "xgb_mae = mean_absolute_error(y_test, y_pred)\n",
    "xgb_scores = cross_val_score(xgb, x[selected_features], y, cv=kf, scoring='r2')\n",
    "\n",
    "print(f'Lasso regression score: {xgb_score}')\n",
    "print(f'Lasso regression mae: {xgb_mae}')\n",
    "print('--------------------------------------')\n",
    "print(\"K-Fold mean:\", xgb_scores.mean())\n",
    "print(\"K-Fold std:\", xgb_scores.std())\n",
    "print(\"Selected features:\", list(selected_features))"
   ]
  },
  {
   "cell_type": "code",
   "execution_count": 22,
   "id": "e7659b7b",
   "metadata": {},
   "outputs": [],
   "source": [
    "from tabulate import tabulate"
   ]
  },
  {
   "cell_type": "code",
   "execution_count": 23,
   "id": "38039186",
   "metadata": {},
   "outputs": [
    {
     "data": {
      "text/html": [
       "<pre style=\"white-space:pre;overflow-x:auto;line-height:normal;font-family:Menlo,'DejaVu Sans Mono',consolas,'Courier New',monospace\"><span style=\"font-style: italic\">                      Wrapper Models Comparison                       </span>\n",
       "┏━━━━━━━━━━━━━━━━━━━┳━━━━━━━━━━┳━━━━━━━━━━┳━━━━━━━━━━━━━┳━━━━━━━━━━━━┓\n",
       "┃<span style=\"font-weight: bold\"> Algorithm         </span>┃<span style=\"font-weight: bold\"> R2 score </span>┃<span style=\"font-weight: bold\">      MAE </span>┃<span style=\"font-weight: bold\"> K-Fold mean </span>┃<span style=\"font-weight: bold\"> K-Fold std </span>┃\n",
       "┡━━━━━━━━━━━━━━━━━━━╇━━━━━━━━━━╇━━━━━━━━━━╇━━━━━━━━━━━━━╇━━━━━━━━━━━━┩\n",
       "│ <span style=\"color: #008000; text-decoration-color: #008000; font-weight: bold\">AdaBoost</span>          │ <span style=\"color: #008000; text-decoration-color: #008000; font-weight: bold\">0.808264</span> │ <span style=\"color: #008000; text-decoration-color: #008000; font-weight: bold\">2.396027</span> │    <span style=\"color: #008000; text-decoration-color: #008000; font-weight: bold\">0.807596</span> │   <span style=\"color: #008000; text-decoration-color: #008000; font-weight: bold\">0.023816</span> │\n",
       "├───────────────────┼──────────┼──────────┼─────────────┼────────────┤\n",
       "│ Random Forest     │ 0.792890 │ 2.421979 │    0.791631 │   0.023949 │\n",
       "├───────────────────┼──────────┼──────────┼─────────────┼────────────┤\n",
       "│ Extra Trees       │ 0.772434 │ 2.494549 │    0.782241 │   0.026291 │\n",
       "├───────────────────┼──────────┼──────────┼─────────────┼────────────┤\n",
       "│ HistGradBoosting  │ 0.769956 │ 2.495927 │    0.764441 │   0.027752 │\n",
       "├───────────────────┼──────────┼──────────┼─────────────┼────────────┤\n",
       "│ Gradient Boosting │ 0.766669 │ 2.521331 │    0.759842 │   0.029711 │\n",
       "├───────────────────┼──────────┼──────────┼─────────────┼────────────┤\n",
       "│ XGBoost           │ 0.740091 │ 2.625683 │    0.753231 │   0.026181 │\n",
       "├───────────────────┼──────────┼──────────┼─────────────┼────────────┤\n",
       "│ SVR               │ 0.724214 │ 2.823780 │    0.712504 │   0.031850 │\n",
       "├───────────────────┼──────────┼──────────┼─────────────┼────────────┤\n",
       "│ KNN               │ 0.634334 │ 3.155641 │    0.622732 │   0.052868 │\n",
       "├───────────────────┼──────────┼──────────┼─────────────┼────────────┤\n",
       "│ ElasticNet        │ 0.632498 │ 3.193362 │    0.640966 │   0.028002 │\n",
       "├───────────────────┼──────────┼──────────┼─────────────┼────────────┤\n",
       "│ Ridge             │ 0.632472 │ 3.173870 │    0.639861 │   0.026723 │\n",
       "├───────────────────┼──────────┼──────────┼─────────────┼────────────┤\n",
       "│ Lasso             │ 0.631490 │ 3.208648 │    0.640476 │   0.026507 │\n",
       "├───────────────────┼──────────┼──────────┼─────────────┼────────────┤\n",
       "│ Linear Regression │ 0.627525 │ 3.207928 │    0.637249 │   0.027304 │\n",
       "├───────────────────┼──────────┼──────────┼─────────────┼────────────┤\n",
       "│ <span style=\"color: #ff875f; text-decoration-color: #ff875f; font-weight: bold\">Decision Tree</span>     │ <span style=\"color: #ff875f; text-decoration-color: #ff875f; font-weight: bold\">0.602295</span> │ <span style=\"color: #ff875f; text-decoration-color: #ff875f; font-weight: bold\">3.186154</span> │    <span style=\"color: #ff875f; text-decoration-color: #ff875f; font-weight: bold\">0.600344</span> │   <span style=\"color: #ff875f; text-decoration-color: #ff875f; font-weight: bold\">0.061849</span> │\n",
       "└───────────────────┴──────────┴──────────┴─────────────┴────────────┘\n",
       "</pre>\n"
      ],
      "text/plain": [
       "\u001b[3m                      Wrapper Models Comparison                       \u001b[0m\n",
       "┏━━━━━━━━━━━━━━━━━━━┳━━━━━━━━━━┳━━━━━━━━━━┳━━━━━━━━━━━━━┳━━━━━━━━━━━━┓\n",
       "┃\u001b[1m \u001b[0m\u001b[1mAlgorithm        \u001b[0m\u001b[1m \u001b[0m┃\u001b[1m \u001b[0m\u001b[1mR2 score\u001b[0m\u001b[1m \u001b[0m┃\u001b[1m \u001b[0m\u001b[1m     MAE\u001b[0m\u001b[1m \u001b[0m┃\u001b[1m \u001b[0m\u001b[1mK-Fold mean\u001b[0m\u001b[1m \u001b[0m┃\u001b[1m \u001b[0m\u001b[1mK-Fold std\u001b[0m\u001b[1m \u001b[0m┃\n",
       "┡━━━━━━━━━━━━━━━━━━━╇━━━━━━━━━━╇━━━━━━━━━━╇━━━━━━━━━━━━━╇━━━━━━━━━━━━┩\n",
       "│ \u001b[1;32mAdaBoost\u001b[0m          │ \u001b[1;32m0.808264\u001b[0m │ \u001b[1;32m2.396027\u001b[0m │    \u001b[1;32m0.807596\u001b[0m │   \u001b[1;32m0.023816\u001b[0m │\n",
       "├───────────────────┼──────────┼──────────┼─────────────┼────────────┤\n",
       "│ Random Forest     │ 0.792890 │ 2.421979 │    0.791631 │   0.023949 │\n",
       "├───────────────────┼──────────┼──────────┼─────────────┼────────────┤\n",
       "│ Extra Trees       │ 0.772434 │ 2.494549 │    0.782241 │   0.026291 │\n",
       "├───────────────────┼──────────┼──────────┼─────────────┼────────────┤\n",
       "│ HistGradBoosting  │ 0.769956 │ 2.495927 │    0.764441 │   0.027752 │\n",
       "├───────────────────┼──────────┼──────────┼─────────────┼────────────┤\n",
       "│ Gradient Boosting │ 0.766669 │ 2.521331 │    0.759842 │   0.029711 │\n",
       "├───────────────────┼──────────┼──────────┼─────────────┼────────────┤\n",
       "│ XGBoost           │ 0.740091 │ 2.625683 │    0.753231 │   0.026181 │\n",
       "├───────────────────┼──────────┼──────────┼─────────────┼────────────┤\n",
       "│ SVR               │ 0.724214 │ 2.823780 │    0.712504 │   0.031850 │\n",
       "├───────────────────┼──────────┼──────────┼─────────────┼────────────┤\n",
       "│ KNN               │ 0.634334 │ 3.155641 │    0.622732 │   0.052868 │\n",
       "├───────────────────┼──────────┼──────────┼─────────────┼────────────┤\n",
       "│ ElasticNet        │ 0.632498 │ 3.193362 │    0.640966 │   0.028002 │\n",
       "├───────────────────┼──────────┼──────────┼─────────────┼────────────┤\n",
       "│ Ridge             │ 0.632472 │ 3.173870 │    0.639861 │   0.026723 │\n",
       "├───────────────────┼──────────┼──────────┼─────────────┼────────────┤\n",
       "│ Lasso             │ 0.631490 │ 3.208648 │    0.640476 │   0.026507 │\n",
       "├───────────────────┼──────────┼──────────┼─────────────┼────────────┤\n",
       "│ Linear Regression │ 0.627525 │ 3.207928 │    0.637249 │   0.027304 │\n",
       "├───────────────────┼──────────┼──────────┼─────────────┼────────────┤\n",
       "│ \u001b[1;38;5;209mDecision Tree\u001b[0m     │ \u001b[1;38;5;209m0.602295\u001b[0m │ \u001b[1;38;5;209m3.186154\u001b[0m │    \u001b[1;38;5;209m0.600344\u001b[0m │   \u001b[1;38;5;209m0.061849\u001b[0m │\n",
       "└───────────────────┴──────────┴──────────┴─────────────┴────────────┘\n"
      ]
     },
     "metadata": {},
     "output_type": "display_data"
    }
   ],
   "source": [
    "console = Console()\n",
    "\n",
    "results = [\n",
    "    ['Linear Regression', lr_score, lr_mae, lr_scores.mean(), lr_scores.std()],\n",
    "    ['Lasso', lasso_score, lasso_mae, lasso_scores.mean(), lasso_scores.std()],\n",
    "    ['Ridge', ridge_score, ridge_mae, ridge_scores.mean(), ridge_scores.std()],\n",
    "    ['ElasticNet', en_score, en_mae, en_scores.mean(), en_scores.std()],\n",
    "    ['Decision Tree', dt_score, dt_mae, dt_scores.mean(), dt_scores.std()],\n",
    "    ['Random Forest', rf_score, rf_mae, rf_scores.mean(), rf_scores.std()],\n",
    "    ['Gradient Boosting', gb_score, gb_mae, gb_scores.mean(), gb_scores.std()],\n",
    "    ['Extra Trees', et_score, et_mae, et_scores.mean(), et_scores.std()],\n",
    "    ['HistGradBoosting', hgb_score, hgb_mae, hgb_scores.mean(), hgb_scores.std()],\n",
    "    ['SVR', svm_score, svm_mae, svm_scores.mean(), svm_scores.std()],\n",
    "    ['KNN', knn_score, knn_mae, knn_scores.mean(), knn_scores.std()],\n",
    "    ['XGBoost', xgb_score, xgb_mae, xgb_scores.mean(), xgb_scores.std()],\n",
    "    ['AdaBoost', ab_score, ab_mae, ab_scores.mean(), ab_scores.std()]\n",
    "]\n",
    "\n",
    "result_sorted = sorted(results, key=lambda i: i[1], reverse=True)\n",
    "\n",
    "best_model = max(results, key=lambda x: x[1])\n",
    "worst_model = min(results, key=lambda x: x[1])\n",
    "\n",
    "table = Table(title=\"Wrapper Models Comparison\", show_lines=True)\n",
    "table.add_column(\"Algorithm\")\n",
    "table.add_column(\"R2 score\")\n",
    "table.add_column(\"MAE\", justify=\"right\")\n",
    "table.add_column(\"K-Fold mean\", justify=\"right\")\n",
    "table.add_column(\"K-Fold std\", justify=\"right\")\n",
    "\n",
    "for row in result_sorted:\n",
    "    algo, r2, mae, kmean, kstd = row\n",
    "    if row == best_model:\n",
    "        table.add_row(f\"[bold green]{algo}[/bold green]\",\n",
    "                      f\"[bold green]{r2:.6f}[/bold green]\",\n",
    "                      f\"[bold green]{mae:.6f}[/bold green]\",\n",
    "                      f\"[bold green]{kmean:.6f}[/bold green]\",\n",
    "                      f\"[bold green]{kstd:.6f}[/bold green]\")\n",
    "    elif row == worst_model:\n",
    "        table.add_row(f\"[bold salmon1]{algo}[/bold salmon1]\",\n",
    "                      f\"[bold salmon1]{r2:.6f}[/bold salmon1]\",\n",
    "                      f\"[bold salmon1]{mae:.6f}[/bold salmon1]\",\n",
    "                      f\"[bold salmon1]{kmean:.6f}[/bold salmon1]\",\n",
    "                      f\"[bold salmon1]{kstd:.6f}[/bold salmon1]\")\n",
    "    else:\n",
    "        table.add_row(algo, f\"{r2:.6f}\", f\"{mae:.6f}\", f\"{kmean:.6f}\", f\"{kstd:.6f}\")\n",
    "\n",
    "console.print(table)"
   ]
  },
  {
   "cell_type": "code",
   "execution_count": null,
   "id": "6815f0c2",
   "metadata": {},
   "outputs": [],
   "source": []
  }
 ],
 "metadata": {
  "kernelspec": {
   "display_name": "Python 3",
   "language": "python",
   "name": "python3"
  },
  "language_info": {
   "codemirror_mode": {
    "name": "ipython",
    "version": 3
   },
   "file_extension": ".py",
   "mimetype": "text/x-python",
   "name": "python",
   "nbconvert_exporter": "python",
   "pygments_lexer": "ipython3",
   "version": "3.11.9"
  }
 },
 "nbformat": 4,
 "nbformat_minor": 5
}
